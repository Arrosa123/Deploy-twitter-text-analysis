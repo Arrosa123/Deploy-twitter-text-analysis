{
 "cells": [
  {
   "cell_type": "markdown",
   "id": "041348fd",
   "metadata": {},
   "source": [
    "### Hii!!! I'm doing Database part."
   ]
  },
  {
   "cell_type": "code",
   "execution_count": null,
   "id": "be54537d",
   "metadata": {},
   "outputs": [],
   "source": []
  }
 ],
 "metadata": {
  "kernelspec": {
   "display_name": "PythonData",
   "language": "python",
   "name": "pythondata"
  },
  "language_info": {
   "codemirror_mode": {
    "name": "ipython",
    "version": 3
   },
   "file_extension": ".py",
   "mimetype": "text/x-python",
   "name": "python",
   "nbconvert_exporter": "python",
   "pygments_lexer": "ipython3",
   "version": "3.7.11"
  }
 },
 "nbformat": 4,
 "nbformat_minor": 5
}
