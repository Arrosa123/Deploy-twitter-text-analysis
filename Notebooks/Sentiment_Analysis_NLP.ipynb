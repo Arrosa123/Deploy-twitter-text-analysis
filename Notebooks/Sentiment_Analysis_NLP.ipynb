{
 "cells": [
  {
   "cell_type": "code",
   "execution_count": 1,
   "metadata": {},
   "outputs": [
    {
     "name": "stdout",
     "output_type": "stream",
     "text": [
      "Requirement already satisfied: update in /Users/ilan/opt/anaconda3/envs/mlenv2/lib/python3.7/site-packages (0.0.1)\n",
      "Requirement already satisfied: style==1.1.0 in /Users/ilan/opt/anaconda3/envs/mlenv2/lib/python3.7/site-packages (from update) (1.1.0)\n",
      "\u001b[33mWARNING: You are using pip version 22.0.4; however, version 22.1.1 is available.\n",
      "You should consider upgrading via the '/Users/ilan/opt/anaconda3/envs/mlenv2/bin/python -m pip install --upgrade pip' command.\u001b[0m\n",
      "Note: you may need to restart the kernel to use updated packages.\n"
     ]
    }
   ],
   "source": [
    "pip install update"
   ]
  },
  {
   "cell_type": "code",
   "execution_count": 1,
   "metadata": {
    "colab": {
     "base_uri": "https://localhost:8080/"
    },
    "executionInfo": {
     "elapsed": 23238,
     "status": "ok",
     "timestamp": 1652650268711,
     "user": {
      "displayName": "Ilan",
      "userId": "09321244954808786476"
     },
     "user_tz": 420
    },
    "id": "svJSkod1pxij",
    "outputId": "a04bb0e4-9dfb-4916-d5bd-58e8d2102c4a"
   },
   "outputs": [
    {
     "name": "stdout",
     "output_type": "stream",
     "text": [
      "/bin/bash: apt-get: command not found\n",
      "/bin/bash: apt-get: command not found\n",
      "\u001b[33mWARNING: You are using pip version 22.0.4; however, version 22.1.1 is available.\n",
      "You should consider upgrading via the '/Users/ilan/opt/anaconda3/envs/mlenv/bin/python -m pip install --upgrade pip' command.\u001b[0m\n"
     ]
    },
    {
     "ename": "Exception",
     "evalue": "Unable to find py4j in /content/spark-3.0.3-bin-hadoop2.7/python, your SPARK_HOME may not be configured correctly",
     "output_type": "error",
     "traceback": [
      "\u001b[0;31m---------------------------------------------------------------------------\u001b[0m",
      "\u001b[0;31mIndexError\u001b[0m                                Traceback (most recent call last)",
      "\u001b[0;32m~/opt/anaconda3/envs/mlenv/lib/python3.7/site-packages/findspark.py\u001b[0m in \u001b[0;36minit\u001b[0;34m(spark_home, python_path, edit_rc, edit_profile)\u001b[0m\n\u001b[1;32m    158\u001b[0m         \u001b[0;32mtry\u001b[0m\u001b[0;34m:\u001b[0m\u001b[0;34m\u001b[0m\u001b[0;34m\u001b[0m\u001b[0m\n\u001b[0;32m--> 159\u001b[0;31m             \u001b[0mpy4j\u001b[0m \u001b[0;34m=\u001b[0m \u001b[0mglob\u001b[0m\u001b[0;34m(\u001b[0m\u001b[0mos\u001b[0m\u001b[0;34m.\u001b[0m\u001b[0mpath\u001b[0m\u001b[0;34m.\u001b[0m\u001b[0mjoin\u001b[0m\u001b[0;34m(\u001b[0m\u001b[0mspark_python\u001b[0m\u001b[0;34m,\u001b[0m \u001b[0;34m\"lib\"\u001b[0m\u001b[0;34m,\u001b[0m \u001b[0;34m\"py4j-*.zip\"\u001b[0m\u001b[0;34m)\u001b[0m\u001b[0;34m)\u001b[0m\u001b[0;34m[\u001b[0m\u001b[0;36m0\u001b[0m\u001b[0;34m]\u001b[0m\u001b[0;34m\u001b[0m\u001b[0;34m\u001b[0m\u001b[0m\n\u001b[0m\u001b[1;32m    160\u001b[0m         \u001b[0;32mexcept\u001b[0m \u001b[0mIndexError\u001b[0m\u001b[0;34m:\u001b[0m\u001b[0;34m\u001b[0m\u001b[0;34m\u001b[0m\u001b[0m\n",
      "\u001b[0;31mIndexError\u001b[0m: list index out of range",
      "\nDuring handling of the above exception, another exception occurred:\n",
      "\u001b[0;31mException\u001b[0m                                 Traceback (most recent call last)",
      "\u001b[0;32m/var/folders/58/gchpv8j11_55vcv6hppyq9_40000gn/T/ipykernel_15114/3126949024.py\u001b[0m in \u001b[0;36m<module>\u001b[0;34m\u001b[0m\n\u001b[1;32m     20\u001b[0m \u001b[0;31m# Start a SparkSession\u001b[0m\u001b[0;34m\u001b[0m\u001b[0;34m\u001b[0m\u001b[0;34m\u001b[0m\u001b[0m\n\u001b[1;32m     21\u001b[0m \u001b[0;32mimport\u001b[0m \u001b[0mfindspark\u001b[0m\u001b[0;34m\u001b[0m\u001b[0;34m\u001b[0m\u001b[0m\n\u001b[0;32m---> 22\u001b[0;31m \u001b[0mfindspark\u001b[0m\u001b[0;34m.\u001b[0m\u001b[0minit\u001b[0m\u001b[0;34m(\u001b[0m\u001b[0;34m)\u001b[0m\u001b[0;34m\u001b[0m\u001b[0;34m\u001b[0m\u001b[0m\n\u001b[0m",
      "\u001b[0;32m~/opt/anaconda3/envs/mlenv/lib/python3.7/site-packages/findspark.py\u001b[0m in \u001b[0;36minit\u001b[0;34m(spark_home, python_path, edit_rc, edit_profile)\u001b[0m\n\u001b[1;32m    161\u001b[0m             raise Exception(\n\u001b[1;32m    162\u001b[0m                 \"Unable to find py4j in {}, your SPARK_HOME may not be configured correctly\".format(\n\u001b[0;32m--> 163\u001b[0;31m                     \u001b[0mspark_python\u001b[0m\u001b[0;34m\u001b[0m\u001b[0;34m\u001b[0m\u001b[0m\n\u001b[0m\u001b[1;32m    164\u001b[0m                 )\n\u001b[1;32m    165\u001b[0m             )\n",
      "\u001b[0;31mException\u001b[0m: Unable to find py4j in /content/spark-3.0.3-bin-hadoop2.7/python, your SPARK_HOME may not be configured correctly"
     ]
    }
   ],
   "source": [
    "import os\n",
    "# Find the latest version of spark 3.0 from http://www.apache.org/dist/spark/ and enter as the spark version\n",
    "# For example:\n",
    "# spark_version = 'spark-3.0.3'\n",
    "spark_version = 'spark-3.0.3'\n",
    "os.environ['SPARK_VERSION']=spark_version\n",
    "\n",
    "# Install Spark and Java\n",
    "!apt-get update\n",
    "!apt-get install openjdk-11-jdk-headless -qq > /dev/null\n",
    "!wget -q http://www.apache.org/dist/spark/$SPARK_VERSION/$SPARK_VERSION-bin-hadoop2.7.tgz\n",
    "!tar xf $SPARK_VERSION-bin-hadoop2.7.tgz\n",
    "!pip install -q findspark\n",
    "\n",
    "# Set Environment Variables\n",
    "import os\n",
    "os.environ[\"JAVA_HOME\"] = \"/usr/lib/jvm/java-11-openjdk-amd64\"\n",
    "os.environ[\"SPARK_HOME\"] = f\"/content/{spark_version}-bin-hadoop2.7\"\n",
    "\n",
    "# Start a SparkSession\n",
    "import findspark\n",
    "findspark.init()"
   ]
  },
  {
   "cell_type": "code",
   "execution_count": 2,
   "metadata": {
    "colab": {
     "base_uri": "https://localhost:8080/"
    },
    "executionInfo": {
     "elapsed": 458,
     "status": "ok",
     "timestamp": 1652650269373,
     "user": {
      "displayName": "Ilan",
      "userId": "09321244954808786476"
     },
     "user_tz": 420
    },
    "id": "e0DqOeQ8yCnW",
    "outputId": "0a2dceef-4f83-46e4-c661-74f27fd3a3d9"
   },
   "outputs": [
    {
     "name": "stdout",
     "output_type": "stream",
     "text": [
      "--2022-05-15 21:31:08--  https://jdbc.postgresql.org/download/postgresql-42.2.16.jar\n",
      "Resolving jdbc.postgresql.org (jdbc.postgresql.org)... 72.32.157.228, 2001:4800:3e1:1::228\n",
      "Connecting to jdbc.postgresql.org (jdbc.postgresql.org)|72.32.157.228|:443... connected.\n",
      "HTTP request sent, awaiting response... 200 OK\n",
      "Length: 1002883 (979K) [application/java-archive]\n",
      "Saving to: ‘postgresql-42.2.16.jar.2’\n",
      "\n",
      "postgresql-42.2.16. 100%[===================>] 979.38K  5.43MB/s    in 0.2s    \n",
      "\n",
      "2022-05-15 21:31:09 (5.43 MB/s) - ‘postgresql-42.2.16.jar.2’ saved [1002883/1002883]\n",
      "\n"
     ]
    }
   ],
   "source": [
    "# PostgreSQL driver\n",
    "!wget https://jdbc.postgresql.org/download/postgresql-42.2.16.jar"
   ]
  },
  {
   "cell_type": "code",
   "execution_count": 1,
   "metadata": {
    "executionInfo": {
     "elapsed": 9741,
     "status": "ok",
     "timestamp": 1652650279113,
     "user": {
      "displayName": "Ilan",
      "userId": "09321244954808786476"
     },
     "user_tz": 420
    },
    "id": "CX5I_WCKp2Q_"
   },
   "outputs": [
    {
     "name": "stderr",
     "output_type": "stream",
     "text": [
      "WARNING: An illegal reflective access operation has occurred\n",
      "WARNING: Illegal reflective access by org.apache.spark.unsafe.Platform (file:/Users/ilan/opt/anaconda3/envs/mlenv2/lib/python3.7/site-packages/pyspark/jars/spark-unsafe_2.12-3.2.1.jar) to constructor java.nio.DirectByteBuffer(long,int)\n",
      "WARNING: Please consider reporting this to the maintainers of org.apache.spark.unsafe.Platform\n",
      "WARNING: Use --illegal-access=warn to enable warnings of further illegal reflective access operations\n",
      "WARNING: All illegal access operations will be denied in a future release\n",
      "Using Spark's default log4j profile: org/apache/spark/log4j-defaults.properties\n",
      "Setting default log level to \"WARN\".\n",
      "To adjust logging level use sc.setLogLevel(newLevel). For SparkR, use setLogLevel(newLevel).\n",
      "22/05/30 19:49:02 WARN NativeCodeLoader: Unable to load native-hadoop library for your platform... using builtin-java classes where applicable\n"
     ]
    }
   ],
   "source": [
    "# Start Spark session\n",
    "from pyspark.sql import SparkSession\n",
    "spark = SparkSession.builder.appName(\"Twitter_Sentiment_NLP\").config(\"spark.driver.extraClassPath\",\"/content/postgresql-42.2.16.jar\").getOrCreate()"
   ]
  },
  {
   "cell_type": "code",
   "execution_count": 4,
   "metadata": {
    "executionInfo": {
     "elapsed": 11842,
     "status": "ok",
     "timestamp": 1652650290952,
     "user": {
      "displayName": "Ilan",
      "userId": "09321244954808786476"
     },
     "user_tz": 420
    },
    "id": "z-m7GHX29YYO"
   },
   "outputs": [],
   "source": [
    "# Read in data from S3 Buckets\n",
    "from pyspark import SparkFiles\n",
    "url =\"https://ilanp-bucket.s3.us-west-2.amazonaws.com/sentiment_analysis_10k.csv\"\n",
    "spark.sparkContext.addFile(url)\n",
    "tweet_df = spark.read.csv(SparkFiles.get(\"sentiment_analysis_10k.csv\"), sep=\",\", header=True, inferSchema=True)"
   ]
  },
  {
   "cell_type": "code",
   "execution_count": 5,
   "metadata": {
    "colab": {
     "base_uri": "https://localhost:8080/"
    },
    "executionInfo": {
     "elapsed": 505,
     "status": "ok",
     "timestamp": 1652650291453,
     "user": {
      "displayName": "Ilan",
      "userId": "09321244954808786476"
     },
     "user_tz": 420
    },
    "id": "49MzIZcws4C2",
    "outputId": "ac041a3a-4d5c-48bf-b831-9d499512c4ab"
   },
   "outputs": [
    {
     "name": "stdout",
     "output_type": "stream",
     "text": [
      "+--------+----------+--------------------+--------+--------------+--------------------+--------+\n",
      "|polarity|        id|                date|   query|          user|                text|new_date|\n",
      "+--------+----------+--------------------+--------+--------------+--------------------+--------+\n",
      "|       0|2051199119|Fri Jun 05 21:04:...|NO_QUERY|    alicatpurr|My moonstone pend...|  6/5/09|\n",
      "|       0|2051199378|Fri Jun 05 21:04:...|NO_QUERY|      joshwehe|Watching baseball...|  6/5/09|\n",
      "|       0|2051200441|Fri Jun 05 21:05:...|NO_QUERY|    qwerkyqook|RIP cute black ma...|  6/5/09|\n",
      "|       0|2051201409|Fri Jun 05 21:05:...|NO_QUERY|       Lizfig3|@pandafandanga we...|  6/5/09|\n",
      "|       0|2051201881|Fri Jun 05 21:05:...|NO_QUERY|sweet_ctstrphe|lost my  voice  w...|  6/5/09|\n",
      "+--------+----------+--------------------+--------+--------------+--------------------+--------+\n",
      "only showing top 5 rows\n",
      "\n"
     ]
    }
   ],
   "source": [
    "tweet_df.show(5)"
   ]
  },
  {
   "cell_type": "code",
   "execution_count": 6,
   "metadata": {
    "executionInfo": {
     "elapsed": 3,
     "status": "ok",
     "timestamp": 1652650291453,
     "user": {
      "displayName": "Ilan",
      "userId": "09321244954808786476"
     },
     "user_tz": 420
    },
    "id": "nY_6T6XcqD4d"
   },
   "outputs": [],
   "source": [
    "# Import functions\n",
    "from pyspark.ml.feature import Tokenizer, StopWordsRemover, HashingTF, IDF, StringIndexer"
   ]
  },
  {
   "cell_type": "code",
   "execution_count": 7,
   "metadata": {
    "colab": {
     "base_uri": "https://localhost:8080/"
    },
    "executionInfo": {
     "elapsed": 614,
     "status": "ok",
     "timestamp": 1652650292065,
     "user": {
      "displayName": "Ilan",
      "userId": "09321244954808786476"
     },
     "user_tz": 420
    },
    "id": "Ku5NvLq3qIqp",
    "outputId": "b2b6cc83-b59b-4e4a-f066-9cae221f808d"
   },
   "outputs": [
    {
     "name": "stdout",
     "output_type": "stream",
     "text": [
      "+--------+----------+--------------------+--------+---------------+--------------------+--------+------+\n",
      "|polarity|        id|                date|   query|           user|                text|new_date|length|\n",
      "+--------+----------+--------------------+--------+---------------+--------------------+--------+------+\n",
      "|       0|2051199119|Fri Jun 05 21:04:...|NO_QUERY|     alicatpurr|My moonstone pend...|  6/5/09|   126|\n",
      "|       0|2051199378|Fri Jun 05 21:04:...|NO_QUERY|       joshwehe|Watching baseball...|  6/5/09|    63|\n",
      "|       0|2051200441|Fri Jun 05 21:05:...|NO_QUERY|     qwerkyqook|RIP cute black ma...|  6/5/09|    53|\n",
      "|       0|2051201409|Fri Jun 05 21:05:...|NO_QUERY|        Lizfig3|@pandafandanga we...|  6/5/09|    80|\n",
      "|       0|2051201881|Fri Jun 05 21:05:...|NO_QUERY| sweet_ctstrphe|lost my  voice  w...|  6/5/09|    62|\n",
      "|       0|2051201994|Fri Jun 05 21:05:...|NO_QUERY|    thBIKINIboy|@yohnnywalker jay...|  6/5/09|   136|\n",
      "|       0|2051202056|Fri Jun 05 21:05:...|NO_QUERY|   MeggsyWeggsy|Forgot my Meds......|  6/5/09|    52|\n",
      "|       0|2051202506|Fri Jun 05 21:05:...|NO_QUERY|   bnh_61820061|Im pickin my hubb...|  6/5/09|    83|\n",
      "|       0|2051202664|Fri Jun 05 21:06:...|NO_QUERY|  sweetweakness|@dougiemcfly ohh,...|  6/5/09|    73|\n",
      "|       0|2051203085|Fri Jun 05 21:06:...|NO_QUERY|         vickxx|@dougiemcfly COME...|  6/5/09|    40|\n",
      "|       0|2051203315|Fri Jun 05 21:06:...|NO_QUERY|SanchezKimberly|It's almost a wee...|  6/5/09|    78|\n",
      "|       0|2051203747|Fri Jun 05 21:06:...|NO_QUERY|      TroyStith|@MishkaNYC that's...|  6/5/09|    58|\n",
      "|       0|2051204670|Fri Jun 05 21:06:...|NO_QUERY|  lcallstar2208|was watching the ...|  6/5/09|    24|\n",
      "|       0|2051205131|Fri Jun 05 21:06:...|NO_QUERY|        inkWIF3|WTF. Can't watch ...|  6/5/09|   106|\n",
      "|       0|2051205299|Fri Jun 05 21:06:...|NO_QUERY|   KatieRose393|@jonasbrothers so...|  6/5/09|    89|\n",
      "|       0|2051206579|Fri Jun 05 21:07:...|NO_QUERY|         koooda|sunburn showers a...|  6/5/09|    61|\n",
      "|       0|2051207161|Fri Jun 05 21:07:...|NO_QUERY|       Rathjinn| great. Can't get...|  6/5/09|    52|\n",
      "|       0|2051207789|Fri Jun 05 21:07:...|NO_QUERY|     Dopplertom|needs to talk to ...|  6/5/09|    25|\n",
      "|       0|2051207797|Fri Jun 05 21:07:...|NO_QUERY|      viresse12|Two finals tomorr...|  6/5/09|    80|\n",
      "|       0|2051208595|Fri Jun 05 21:07:...|NO_QUERY|   Rock_Johnson|Tried to get peop...|  6/5/09|   110|\n",
      "+--------+----------+--------------------+--------+---------------+--------------------+--------+------+\n",
      "only showing top 20 rows\n",
      "\n"
     ]
    }
   ],
   "source": [
    "from pyspark.sql.functions import length\n",
    "# Create a length column to be used as a future feature\n",
    "data_df = tweet_df.withColumn('length', length(tweet_df['text']))\n",
    "data_df.show()"
   ]
  },
  {
   "cell_type": "code",
   "execution_count": 8,
   "metadata": {
    "executionInfo": {
     "elapsed": 207,
     "status": "ok",
     "timestamp": 1652650292270,
     "user": {
      "displayName": "Ilan",
      "userId": "09321244954808786476"
     },
     "user_tz": 420
    },
    "id": "BJOVRU6dqP0-"
   },
   "outputs": [],
   "source": [
    "# Create all the features to the data set\n",
    "pos_neg_to_num = StringIndexer(inputCol='polarity',outputCol='label')\n",
    "tokenizer = Tokenizer(inputCol=\"text\", outputCol=\"token_text\")\n",
    "stopremove = StopWordsRemover(inputCol='token_text',outputCol='stop_tokens')\n",
    "hashingTF = HashingTF(inputCol=\"stop_tokens\", outputCol='hash_token')\n",
    "idf = IDF(inputCol='hash_token', outputCol='idf_token')"
   ]
  },
  {
   "cell_type": "code",
   "execution_count": 9,
   "metadata": {
    "executionInfo": {
     "elapsed": 4,
     "status": "ok",
     "timestamp": 1652650292271,
     "user": {
      "displayName": "Ilan",
      "userId": "09321244954808786476"
     },
     "user_tz": 420
    },
    "id": "sr-jLVQPqZJ6"
   },
   "outputs": [],
   "source": [
    "from pyspark.ml.feature import VectorAssembler\n",
    "from pyspark.ml.linalg import Vector\n",
    "# Create feature vectors\n",
    "clean_up = VectorAssembler(inputCols=['idf_token', 'length'], outputCol='features')"
   ]
  },
  {
   "cell_type": "code",
   "execution_count": 10,
   "metadata": {
    "executionInfo": {
     "elapsed": 3,
     "status": "ok",
     "timestamp": 1652650292271,
     "user": {
      "displayName": "Ilan",
      "userId": "09321244954808786476"
     },
     "user_tz": 420
    },
    "id": "50PgQeIZqnGT"
   },
   "outputs": [],
   "source": [
    "# Create and run a data processing Pipeline\n",
    "from pyspark.ml import Pipeline\n",
    "data_prep_pipeline = Pipeline(stages=[pos_neg_to_num, tokenizer, stopremove, hashingTF, idf, clean_up])"
   ]
  },
  {
   "cell_type": "code",
   "execution_count": 11,
   "metadata": {
    "executionInfo": {
     "elapsed": 7510,
     "status": "ok",
     "timestamp": 1652650299778,
     "user": {
      "displayName": "Ilan",
      "userId": "09321244954808786476"
     },
     "user_tz": 420
    },
    "id": "K1wefUeGqqAv"
   },
   "outputs": [],
   "source": [
    "# Fit and transform the pipeline\n",
    "cleaner = data_prep_pipeline.fit(data_df)\n",
    "cleaned = cleaner.transform(data_df)"
   ]
  },
  {
   "cell_type": "code",
   "execution_count": 12,
   "metadata": {
    "colab": {
     "base_uri": "https://localhost:8080/"
    },
    "executionInfo": {
     "elapsed": 1277,
     "status": "ok",
     "timestamp": 1652650301052,
     "user": {
      "displayName": "Ilan",
      "userId": "09321244954808786476"
     },
     "user_tz": 420
    },
    "id": "dnPMDF7er5L2",
    "outputId": "41528436-6681-45e8-ce8b-41f32bc90f16"
   },
   "outputs": [
    {
     "name": "stdout",
     "output_type": "stream",
     "text": [
      "+-----+-----------------------------------------------------------------------------------------------------------------------------------------------------------------------------------------------------------------------------------------------------------------------------------------------------------------------------------------------------------------------------+\n",
      "|label|features                                                                                                                                                                                                                                                                                                                                                                     |\n",
      "+-----+-----------------------------------------------------------------------------------------------------------------------------------------------------------------------------------------------------------------------------------------------------------------------------------------------------------------------------------------------------------------------------+\n",
      "|0.0  |(262145,[52800,75018,99179,123690,125638,137733,137765,158782,161509,162991,186806,236455,259091,262144],[6.907805277732178,9.210390370726225,6.6077006852818405,8.80492526261806,4.312550570775313,4.803671123461971,5.176149732573829,9.210390370726225,8.51724319016628,7.8240960096063334,5.809192989064069,8.80492526261806,6.907805277732178,126.0])                   |\n",
      "|0.0  |(262145,[63139,73853,84682,106484,160868,256534,259937,262144],[4.370148062558649,4.89959124534071,8.80492526261806,7.8240960096063334,9.210390370726225,6.6077006852818405,6.4378016484864435,63.0])                                                                                                                                                                        |\n",
      "|0.0  |(262145,[23837,26468,114410,124867,144961,154828,209969,220959,262144],[5.776403166241078,6.348189489796757,7.338588193824633,9.210390370726225,4.474191922331729,6.502340169624015,7.505642278487799,7.013165793390005,53.0])                                                                                                                                               |\n",
      "|0.0  |(262145,[2385,80707,173751,208258,221017,232735,242863,245062,245378,249457,262144],[9.210390370726225,5.744654467926498,6.645441013264688,3.1055971383112393,5.7138828092597445,7.804245346650039,8.111778082058114,9.210390370726225,6.571333041110965,6.032336540378279,80.0])                                                                                            |\n",
      "|0.0  |(262145,[19153,72062,72125,102234,134751,151864,229407,249180,262144],[5.12441405817464,6.377177026670008,5.240098457174103,6.859015113562747,8.111778082058114,6.469550346801023,5.107747005689428,2.244271287207587,62.0])                                                                                                                                                 |\n",
      "|0.0  |(262145,[17893,120504,131695,146139,156917,168976,175382,207713,210243,213715,247637,250397,258435,262144],[4.173437768312596,7.264480221670911,9.210390370726225,9.77251542894249,5.626871432270114,5.472720752442856,9.210390370726225,7.505642278487799,7.41863090149817,9.210390370726225,8.29409963885207,8.80492526261806,5.5597321294324855,136.0])                   |\n",
      "|0.0  |(262145,[64807,165808,197258,199214,218552,227460,262144],[8.51724319016628,5.809192989064069,8.51724319016628,6.502340169624015,6.40702998981969,8.29409963885207,52.0])                                                                                                                                                                                                    |\n",
      "|0.0  |(262145,[20814,31015,52644,57580,66273,71578,83525,155246,191556,237746,249180,262144],[6.907805277732178,3.6730561037076876,5.403727880955905,6.32001861283006,5.9522938327047425,5.534089698819148,9.210390370726225,8.80492526261806,8.51724319016628,6.214658097172233,1.1221356436037935,83.0])                                                                         |\n",
      "|0.0  |(262145,[18284,84018,89721,125638,131596,148675,150239,262144],[8.80492526261806,9.210390370726225,4.990882665550117,4.312550570775313,9.210390370726225,3.210213883016221,6.907805277732178,73.0])                                                                                                                                                                          |\n",
      "|0.0  |(262145,[100506,132270,150239,190011,204380,262144],[7.600952458292124,3.429646854933895,6.907805277732178,8.111778082058114,4.335193047525073,40.0])                                                                                                                                                                                                                        |\n",
      "|0.0  |(262145,[17893,61899,84181,132270,170806,196946,208258,225898,233967,262144],[4.173437768312596,4.05999313425481,6.536241721299696,3.429646854933895,5.30841770115158,4.847291745937862,3.1055971383112393,3.3118638192775114,5.298367365298079,78.0])                                                                                                                       |\n",
      "|0.0  |(262145,[3091,60824,98431,108078,148921,262144],[6.76804333535702,6.292619638641946,5.437629432631586,9.210390370726225,5.472720752442856,58.0])                                                                                                                                                                                                                             |\n",
      "|0.0  |(262145,[20230,63139,262144],[8.80492526261806,4.370148062558649,24.0])                                                                                                                                                                                                                                                                                                      |\n",
      "|0.0  |(262145,[8538,8926,25324,64713,64897,75038,102382,127702,137464,142343,163059,226315,229604,249180,262144],[3.568483299788111,8.111778082058114,8.80492526261806,8.111778082058114,8.29409963885207,7.600952458292124,3.236580758856963,5.760402824894637,7.600952458292124,5.1850386799910755,7.130948829046388,8.80492526261806,4.76187399478351,1.1221356436037935,106.0])|\n",
      "|0.0  |(262145,[14917,65089,76489,101376,153094,155416,162104,229604,262144],[6.959098572119729,6.6077006852818405,7.7063129739499505,5.167339102891674,5.82600010738045,7.013165793390005,7.8240960096063334,4.76187399478351,89.0])                                                                                                                                               |\n",
      "|0.0  |(262145,[70065,106218,115996,180540,188815,224074,262144],[4.99826277284774,7.505642278487799,7.957627402230856,7.600952458292124,7.7063129739499505,7.0703242072299535,61.0])                                                                                                                                                                                               |\n",
      "|0.0  |(262145,[50671,52290,122671,231005,249180,252722,262144],[6.119347917367908,9.210390370726225,6.6077006852818405,7.41863090149817,1.1221356436037935,3.042873879837883,52.0])                                                                                                                                                                                                |\n",
      "|0.0  |(262145,[72125,148039,202878,262144],[5.240098457174103,4.99826277284774,5.991514545858023,25.0])                                                                                                                                                                                                                                                                            |\n",
      "|0.0  |(262145,[28620,61080,102382,142585,162218,162892,183340,222486,258728,262144],[9.210390370726225,5.933245637734048,3.236580758856963,9.210390370726225,8.111778082058114,6.536241721299696,9.210390370726225,9.210390370726225,5.318570072615598,80.0])                                                                                                                      |\n",
      "|0.0  |(262145,[1512,21823,38640,55639,79606,93838,128620,185559,201288,252722,262144],[4.006383683649429,3.5738166457634737,3.1857328562624785,4.551679417810103,6.142337435592608,5.82600010738045,9.210390370726225,4.620333822548181,8.29409963885207,3.042873879837883,110.0])                                                                                                 |\n",
      "+-----+-----------------------------------------------------------------------------------------------------------------------------------------------------------------------------------------------------------------------------------------------------------------------------------------------------------------------------------------------------------------------------+\n",
      "only showing top 20 rows\n",
      "\n"
     ]
    }
   ],
   "source": [
    "cleaned.select(['label','features']).show(truncate=False)"
   ]
  },
  {
   "cell_type": "code",
   "execution_count": 13,
   "metadata": {
    "executionInfo": {
     "elapsed": 3,
     "status": "ok",
     "timestamp": 1652650301053,
     "user": {
      "displayName": "Ilan",
      "userId": "09321244954808786476"
     },
     "user_tz": 420
    },
    "id": "wb8R6XO4sjt_"
   },
   "outputs": [],
   "source": [
    "# Break data down into a training set and a testing set\n",
    "training, testing = cleaned.randomSplit([0.7, 0.3], 21)"
   ]
  },
  {
   "cell_type": "code",
   "execution_count": 14,
   "metadata": {
    "executionInfo": {
     "elapsed": 132218,
     "status": "ok",
     "timestamp": 1652650433268,
     "user": {
      "displayName": "Ilan",
      "userId": "09321244954808786476"
     },
     "user_tz": 420
    },
    "id": "NwKWjP8ZuxPk"
   },
   "outputs": [],
   "source": [
    "from pyspark.ml.classification import NaiveBayes\n",
    "# Create a Naive Bayes model and fit training data\n",
    "nb = NaiveBayes()\n",
    "predictor = nb.fit(training)"
   ]
  },
  {
   "cell_type": "code",
   "execution_count": 15,
   "metadata": {
    "colab": {
     "base_uri": "https://localhost:8080/"
    },
    "executionInfo": {
     "elapsed": 6997,
     "status": "ok",
     "timestamp": 1652650440251,
     "user": {
      "displayName": "Ilan",
      "userId": "09321244954808786476"
     },
     "user_tz": 420
    },
    "id": "ZRW_JNc-u7vn",
    "outputId": "d1f16c68-d715-43fc-b260-c6bc785607cb"
   },
   "outputs": [
    {
     "name": "stdout",
     "output_type": "stream",
     "text": [
      "+--------+----------+--------------------+--------+--------------+--------------------+--------+------+-----+--------------------+--------------------+--------------------+--------------------+--------------------+--------------------+--------------------+----------+\n",
      "|polarity|        id|                date|   query|          user|                text|new_date|length|label|          token_text|         stop_tokens|          hash_token|           idf_token|            features|       rawPrediction|         probability|prediction|\n",
      "+--------+----------+--------------------+--------+--------------+--------------------+--------+------+-----+--------------------+--------------------+--------------------+--------------------+--------------------+--------------------+--------------------+----------+\n",
      "|       0|1468159766|Tue Apr 07 00:02:...|NO_QUERY|    amcpodcast|@Skunkie Sorry, I...|  4/7/09|    68|  0.0|[@skunkie, sorry,...|[@skunkie, sorry,...|(262144,[2437,108...|(262144,[2437,108...|(262145,[2437,108...|[-717.19275657005...|[0.99998188233958...|       0.0|\n",
      "|       0|1468160655|Tue Apr 07 00:02:...|NO_QUERY|         hamb0|@honeyortar the h...|  4/7/09|   133|  0.0|[@honeyortar, the...|[@honeyortar, hin...|(262144,[8538,331...|(262144,[8538,331...|(262145,[8538,331...|[-1129.9684510864...|[1.0,2.1121185205...|       0.0|\n",
      "|       0|1468161997|Tue Apr 07 00:03:...|NO_QUERY|  mixgrindhnic|@BrandzHD TAKIN A...|  4/7/09|    70|  0.0|[@brandzhd, takin...|[@brandzhd, takin...|(262144,[40912,51...|(262144,[40912,51...|(262145,[40912,51...|[-590.82952969964...|[0.99998004822473...|       0.0|\n",
      "|       0|1468163061|Tue Apr 07 00:03:...|NO_QUERY|    fantatango|@Gen_Marie  I hop...|  4/7/09|    61|  0.0|[@gen_marie, , i,...|[@gen_marie, , ho...|(262144,[128160,1...|(262144,[128160,1...|(262145,[128160,1...|[-506.60679889723...|[0.63224186145788...|       0.0|\n",
      "|       0|1468167146|Tue Apr 07 00:04:...|NO_QUERY|          Li_a|Finds her mom rly...|  4/7/09|    84|  0.0|[finds, her, mom,...|[finds, mom, rly,...|(262144,[40553,83...|(262144,[40553,83...|(262145,[40553,83...|[-944.43779060360...|[0.00625813805139...|       1.0|\n",
      "|       0|1468167349|Tue Apr 07 00:04:...|NO_QUERY|     _LLcoolV_|I'm off to bed......|  4/7/09|    80|  0.0|[i'm, off, to, be...|[bed..., way, lat...|(262144,[16293,34...|(262144,[16293,34...|(262145,[16293,34...|[-643.64307245062...|[0.99999953063761...|       0.0|\n",
      "|       0|1468167571|Tue Apr 07 00:05:...|NO_QUERY|     SilkCharm|@kcarruthers I'm ...|  4/7/09|    52|  0.0|[@kcarruthers, i'...|[@kcarruthers, 54...|(262144,[52677,76...|(262144,[52677,76...|(262145,[52677,76...|[-566.56993196641...|[0.99999999997543...|       0.0|\n",
      "|       0|1468167936|Tue Apr 07 00:05:...|NO_QUERY|  dontlookaway|body clock still ...|  4/7/09|    87|  0.0|[body, clock, sti...|[body, clock, sti...|(262144,[21205,22...|(262144,[21205,22...|(262145,[21205,22...|[-824.05173427147...|[0.99999827894451...|       0.0|\n",
      "|       0|1468168741|Tue Apr 07 00:05:...|NO_QUERY|     erriiinnn|blahhh, my throat...|  4/7/09|    67|  0.0|[blahhh,, my, thr...|[blahhh,, throat,...|(262144,[7241,328...|(262144,[7241,328...|(262145,[7241,328...|[-572.25218137069...|[0.99999999999999...|       0.0|\n",
      "|       0|1468169708|Tue Apr 07 00:05:...|NO_QUERY|  oleroleroler|3 in the morning ...|  4/7/09|    36|  0.0|[3, in, the, morn...|[3, morning, sleep.]|(262144,[22411,13...|(262144,[22411,13...|(262145,[22411,13...|[-159.36587936269...|[0.77196831857731...|       0.0|\n",
      "|       0|1468169853|Tue Apr 07 00:05:...|NO_QUERY|    KIKILICOUS|Just wrote a 2 pg...|  4/7/09|   102|  0.0|[just, wrote, a, ...|[wrote, 2, pg, pa...|(262144,[11275,12...|(262144,[11275,12...|(262145,[11275,12...|[-1350.1630438530...|[2.92299255837272...|       1.0|\n",
      "|       0|1468170137|Tue Apr 07 00:05:...|NO_QUERY|phillmidwinter|or should i say m...|  4/7/09|    94|  0.0|[or, should, i, s...|[say, brain, need...|(262144,[42482,66...|(262144,[42482,66...|(262145,[42482,66...|[-772.14033881539...|[1.0,1.1857196942...|       0.0|\n",
      "|       0|1468170829|Tue Apr 07 00:06:...|NO_QUERY|     WooopJess| Twitter woke me up |  4/7/09|    19|  0.0|[twitter, woke, m...|     [twitter, woke]|(262144,[1512,753...|(262144,[1512,753...|(262145,[1512,753...|[-91.759399180403...|[0.54990093892902...|       0.0|\n",
      "|       0|1468171865|Tue Apr 07 00:06:...|NO_QUERY|        msJLoh|@mrskutcher I was...|  4/7/09|   101|  0.0|[@mrskutcher, i, ...|[@mrskutcher, thi...|(262144,[32983,38...|(262144,[32983,38...|(262145,[32983,38...|[-787.04547675903...|[2.30437812472632...|       1.0|\n",
      "|       0|1468173029|Tue Apr 07 00:06:...|NO_QUERY|   ScottRhodie|@Warlach Curse ye...|  4/7/09|    78|  0.0|[@warlach, curse,...|[@warlach, curse,...|(262144,[23087,50...|(262144,[23087,50...|(262145,[23087,50...|[-872.25977640058...|[0.99999998955888...|       0.0|\n",
      "|       0|1468173373|Tue Apr 07 00:06:...|NO_QUERY|      Elligirl|ugh, just read on...|  4/7/09|   116|  0.0|[ugh,, just, read...|[ugh,, read, #cnn...|(262144,[34121,36...|(262144,[34121,36...|(262145,[34121,36...|[-1040.5896861201...|[1.0,3.2132444174...|       0.0|\n",
      "|       0|1468173987|Tue Apr 07 00:07:...|NO_QUERY|    RommelCali|@markress underst...|  4/7/09|    73|  0.0|[@markress, under...|[@markress, under...|(262144,[41649,12...|(262144,[41649,12...|(262145,[41649,12...|[-490.24553412381...|[0.99476847286252...|       0.0|\n",
      "|       0|1468174134|Tue Apr 07 00:07:...|NO_QUERY|    ddgriffith|@samsungimaging b...|  4/7/09|   134|  0.0|[@samsungimaging,...|[@samsungimaging,...|(262144,[4507,163...|(262144,[4507,163...|(262145,[4507,163...|[-1307.7212108349...|[0.99999367357946...|       0.0|\n",
      "|       0|1468174290|Tue Apr 07 00:07:...|NO_QUERY|   emmaketurah|@GillianMe Yeah h...|  4/7/09|    23|  0.0|[@gillianme, yeah...|  [@gillianme, yeah]|(262144,[82065,10...|(262144,[82065,10...|(262145,[82065,10...|[-191.57021684834...|[0.30080253461716...|       1.0|\n",
      "|       0|1468174531|Tue Apr 07 00:07:...|NO_QUERY|     mcsteph94|@dougiemcfly hey ...|  4/7/09|   137|  0.0|[@dougiemcfly, he...|[@dougiemcfly, he...|(262144,[12524,45...|(262144,[12524,45...|(262145,[12524,45...|[-1349.3811846666...|[1.0,1.3713465952...|       0.0|\n",
      "+--------+----------+--------------------+--------+--------------+--------------------+--------+------+-----+--------------------+--------------------+--------------------+--------------------+--------------------+--------------------+--------------------+----------+\n",
      "only showing top 20 rows\n",
      "\n"
     ]
    }
   ],
   "source": [
    "test_results = predictor.transform(testing)\n",
    "test_results.show(20) "
   ]
  },
  {
   "cell_type": "code",
   "execution_count": 16,
   "metadata": {
    "colab": {
     "base_uri": "https://localhost:8080/"
    },
    "executionInfo": {
     "elapsed": 6574,
     "status": "ok",
     "timestamp": 1652650446811,
     "user": {
      "displayName": "Ilan",
      "userId": "09321244954808786476"
     },
     "user_tz": 420
    },
    "id": "xrn_-RE2vwFn",
    "outputId": "c4be8b40-b0a0-4dd9-f13b-9ff7dab4d3b5"
   },
   "outputs": [
    {
     "name": "stdout",
     "output_type": "stream",
     "text": [
      "Accuracy of model at predicting reviews was: 0.674267\n"
     ]
    }
   ],
   "source": [
    "from pyspark.ml.evaluation import BinaryClassificationEvaluator\n",
    "\n",
    "acc_eval = BinaryClassificationEvaluator(labelCol='label', rawPredictionCol='prediction')\n",
    "acc = acc_eval.evaluate(test_results)\n",
    "print(\"Accuracy of model at predicting reviews was: %f\" % acc)\n"
   ]
  },
  {
   "cell_type": "code",
   "execution_count": 17,
   "metadata": {
    "colab": {
     "base_uri": "https://localhost:8080/"
    },
    "executionInfo": {
     "elapsed": 36474,
     "status": "ok",
     "timestamp": 1652650483266,
     "user": {
      "displayName": "Ilan",
      "userId": "09321244954808786476"
     },
     "user_tz": 420
    },
    "id": "iQgX-xzDumxu",
    "outputId": "118ad4cd-9ce2-401e-aff5-66214e99f536"
   },
   "outputs": [
    {
     "name": "stdout",
     "output_type": "stream",
     "text": [
      "Provide Password··········\n"
     ]
    }
   ],
   "source": [
    "# Store environmental variable\n",
    "from getpass import getpass\n",
    "password = getpass('Provide Password')\n",
    "\n",
    "# Configure settings for RDS\n",
    "mode = \"overwrite\"\n",
    "jdbc_url=\"jdbc:postgresql://database-1.c3f2jo4rdylg.us-west-2.rds.amazonaws.com:5432/sentiment_analysis\"\n",
    "config = {\"user\":\"postgres\", \n",
    "          \"password\": password, \n",
    "          \"driver\":\"org.postgresql.Driver\"}"
   ]
  },
  {
   "cell_type": "code",
   "execution_count": 18,
   "metadata": {
    "colab": {
     "base_uri": "https://localhost:8080/"
    },
    "executionInfo": {
     "elapsed": 7025,
     "status": "ok",
     "timestamp": 1652650490287,
     "user": {
      "displayName": "Ilan",
      "userId": "09321244954808786476"
     },
     "user_tz": 420
    },
    "id": "jS4Czxbh2bme",
    "outputId": "3f243913-292a-4fd8-be88-17472ead0b78"
   },
   "outputs": [
    {
     "name": "stdout",
     "output_type": "stream",
     "text": [
      "+--------+-----------------------------------------------------------------------------------------------------------------------------------------+--------+------+-----+------------------------------------------------------------------------------------------------------------------------------------------------------------------------+--------------------------------------------------------------------------------------------------------------------------------------------------------------------------------------------------------------------------------------------------------------------------------------------------------------------------------------------------------------------------------------------------------------------------------------------------------------------------------------------------------------------------------------------------------------------------------------------------------------------+----------+\n",
      "|polarity|text                                                                                                                                     |new_date|length|label|token_text                                                                                                                                                              |features                                                                                                                                                                                                                                                                                                                                                                                                                                                                                                                                                                                                            |prediction|\n",
      "+--------+-----------------------------------------------------------------------------------------------------------------------------------------+--------+------+-----+------------------------------------------------------------------------------------------------------------------------------------------------------------------------+--------------------------------------------------------------------------------------------------------------------------------------------------------------------------------------------------------------------------------------------------------------------------------------------------------------------------------------------------------------------------------------------------------------------------------------------------------------------------------------------------------------------------------------------------------------------------------------------------------------------+----------+\n",
      "|0       |@Skunkie Sorry, I guess sarcasm is hard to show in 130 characters.                                                                       |4/7/09  |68    |0.0  |[@skunkie, sorry,, i, guess, sarcasm, is, hard, to, show, in, 130, characters.]                                                                                         |(262145,[2437,108063,116408,146050,189716,225681,245731,256883,262144],[5.259146652144797,8.51724319016628,6.4378016484864435,9.210390370726225,4.961895128676866,8.51724319016628,5.099516506552913,9.210390370726225,68.0])                                                                                                                                                                                                                                                                                                                                                                                       |0.0       |\n",
      "|0       |@honeyortar the hinge broke  it works, just doesn't open smoothly and it's pissing me off. I dunno I'll see if it can be fixed first.    |4/7/09  |133   |0.0  |[@honeyortar, the, hinge, broke, , it, works,, just, doesn't, open, smoothly, and, it's, pissing, me, off., i, dunno, i'll, see, if, it, can, be, fixed, first.]        |(262145,[8538,33197,40698,60244,112971,149980,158572,169527,191510,192278,220001,229431,249180,262144],[3.568483299788111,8.51724319016628,9.210390370726225,9.210390370726225,6.09687506151585,7.19548735018396,7.600952458292124,6.032336540378279,6.40702998981969,6.907805277732178,8.29409963885207,9.210390370726225,1.1221356436037935,133.0])                                                                                                                                                                                                                                                               |0.0       |\n",
      "|0       |@BrandzHD TAKIN A BREAK FROM THE CLUBS PLEASE DONT TELL ME WHERE U AT                                                                    |4/7/09  |70    |0.0  |[@brandzhd, takin, a, break, from, the, clubs, please, dont, tell, me, where, u, at]                                                                                    |(262145,[40912,51783,85530,87273,124348,166368,179995,199917,262144],[8.80492526261806,3.8190381382109986,5.12441405817464,4.570818758020801,6.011717253175543,4.847291745937862,7.505642278487799,9.210390370726225,70.0])                                                                                                                                                                                                                                                                                                                                                                                         |0.0       |\n",
      "|0       |@Gen_Marie  I hope we can fix you in California at least.....                                                                            |4/7/09  |61    |0.0  |[@gen_marie, , i, hope, we, can, fix, you, in, california, at, least.....]                                                                                              |(262145,[128160,164695,207112,237532,249180,252060,262144],[3.9399582076677233,9.210390370726225,8.111778082058114,7.130948829046388,1.1221356436037935,9.210390370726225,61.0])                                                                                                                                                                                                                                                                                                                                                                                                                                    |0.0       |\n",
      "|0       |Finds her mom rly annoying. I need to detox and do an H2O day. My skin is shitting.                                                      |4/7/09  |84    |0.0  |[finds, her, mom, rly, annoying., i, need, to, detox, and, do, an, h2o, day., my, skin, is, shitting.]                                                                  |(262145,[40553,83161,83668,119864,127581,141269,148123,202002,212915,220267,262144],[7.505642278487799,3.8996504841796304,7.505642278487799,8.80492526261806,9.210390370726225,5.599472458082,7.8240960096063334,5.30841770115158,9.210390370726225,9.210390370726225,84.0])                                                                                                                                                                                                                                                                                                                                        |1.0       |\n",
      "|0       |I'm off to bed... way to late... will likely be a sac a shit at work tomorrow.                                                           |4/7/09  |80    |0.0  |[i'm, off, to, bed..., way, to, late..., will, likely, be, a, sac, a, shit, at, work, tomorrow.]                                                                        |(262145,[16293,34343,51471,52671,61080,64076,70618,241121,262144],[7.8240960096063334,3.387344475243206,4.362274006127744,8.80492526261806,5.933245637734048,5.991514545858023,7.264480221670911,9.210390370726225,80.0])                                                                                                                                                                                                                                                                                                                                                                                           |0.0       |\n",
      "|0       |@kcarruthers I'm only 540 years old in pixie years.                                                                                      |4/7/09  |52    |0.0  |[@kcarruthers, i'm, only, 540, years, old, in, pixie, years.]                                                                                                           |(262145,[52677,76106,160622,182235,252934,256394,262144],[8.80492526261806,6.011717253175543,7.600952458292124,4.961895128676866,8.80492526261806,8.80492526261806,52.0])                                                                                                                                                                                                                                                                                                                                                                                                                                           |0.0       |\n",
      "|0       |body clock still up the chuffer..note never ever stay up late again -also afro is back                                                   |4/7/09  |87    |0.0  |[body, clock, still, up, the, chuffer..note, never, ever, stay, up, late, again, -also, afro, is, back]                                                                 |(262145,[21205,22171,31536,34121,68727,73249,113673,132270,162570,203802,253521,262144],[9.210390370726225,9.210390370726225,3.6119684117278497,6.76804333535702,5.212189669057026,5.472720752442856,4.514465821469669,3.429646854933895,9.210390370726225,5.1850386799910755,7.41863090149817,87.0])                                                                                                                                                                                                                                                                                                               |0.0       |\n",
      "|0       |blahhh, my throat is sore &amp; i keep coughing. i hate being sick                                                                       |4/7/09  |67    |0.0  |[blahhh,, my, throat, is, sore, &amp;, i, keep, coughing., i, hate, being, sick]                                                                                        |(262145,[7241,32890,54480,72709,130236,234437,255484,261677,262144],[9.210390370726225,5.091353195913753,3.787645425803136,4.505374849768417,6.074896154797075,9.210390370726225,6.469550346801023,4.919930929577833,67.0])                                                                                                                                                                                                                                                                                                                                                                                         |0.0       |\n",
      "|0       |3 in the morning and I can't sleep.                                                                                                      |4/7/09  |36    |0.0  |[3, in, the, morning, and, i, can't, sleep.]                                                                                                                            |(262145,[22411,131672,168590,262144],[6.165867933002802,3.9528949986984427,4.947710493684909,36.0])                                                                                                                                                                                                                                                                                                                                                                                                                                                                                                                 |0.0       |\n",
      "|0       |Just wrote a 2 pg paper n 30 min, studied n now off 2 bed. Gotta wake up n 3 hours. OH JOY!  Nite all!                                   |4/7/09  |102   |0.0  |[just, wrote, a, 2, pg, paper, n, 30, min,, studied, n, now, off, 2, bed., gotta, wake, up, n, 3, hours., oh, joy!, , nite, all!]                                       |(262145,[11275,12524,18184,43237,49769,52644,58967,72510,77924,92754,93206,138651,157506,168590,217817,230168,249180,257750,262144],[5.82600010738045,7.879916415335447,3.9120730041781875,5.1586054229229195,8.29409963885207,16.211183642867713,6.6077006852818405,6.032336540378279,8.29409963885207,8.29409963885207,6.265951391559784,9.210390370726225,6.536241721299696,4.947710493684909,7.264480221670911,5.655042309236811,1.1221356436037935,6.4378016484864435,102.0])                                                                                                                                  |1.0       |\n",
      "|0       |or should i say my brain needs to optimise my neural search pathways to find my muscles again                                            |4/7/09  |94    |0.0  |[or, should, i, say, my, brain, needs, to, optimise, my, neural, search, pathways, to, find, my, muscles, again]                                                        |(262145,[42482,66669,91878,171222,197009,198060,202878,221552,249607,262144],[9.210390370726225,7.600952458292124,4.756043074472717,4.595269853884965,6.812495097927854,9.210390370726225,5.991514545858023,8.29409963885207,6.907805277732178,94.0])                                                                                                                                                                                                                                                                                                                                                               |0.0       |\n",
      "|0       |Twitter woke me up                                                                                                                       |4/7/09  |19    |0.0  |[twitter, woke, me, up]                                                                                                                                                 |(262145,[1512,75373,262144],[4.006383683649429,5.167339102891674,19.0])                                                                                                                                                                                                                                                                                                                                                                                                                                                                                                                                             |0.0       |\n",
      "|0       |@mrskutcher I was just thinking that today - how deprssing it all is!  Makes us appreciate life more.                                    |4/7/09  |101   |0.0  |[@mrskutcher, i, was, just, thinking, that, today, -, how, deprssing, it, all, is!, , makes, us, appreciate, life, more.]                                               |(262145,[32983,38640,64238,109156,143689,167227,172517,180288,197913,199581,219766,249180,262144],[5.328826572782787,3.1857328562624785,3.6691268255677985,4.886257714471245,8.111778082058114,7.7063129739499505,4.961895128676866,6.907805277732178,9.210390370726225,5.149947360179805,6.76804333535702,1.1221356436037935,101.0])                                                                                                                                                                                                                                                                               |1.0       |\n",
      "|0       |@Warlach Curse ye!! Have fun at it. I miss doing online PR for Paramount Pics                                                            |4/7/09  |78    |0.0  |[@warlach, curse, ye!!, have, fun, at, it., i, miss, doing, online, pr, for, paramount, pics]                                                                           |(262145,[23087,50671,79606,89820,112019,122361,143501,146984,232735,245293,262144],[4.418740617795515,6.119347917367908,6.142337435592608,8.80492526261806,9.210390370726225,8.80492526261806,4.840942518259203,9.210390370726225,3.9021226733250196,8.80492526261806,78.0])                                                                                                                                                                                                                                                                                                                                        |0.0       |\n",
      "|0       |ugh, just read on #CNN that they found the Cantu girl's body in a pond near their home. How terrible for her family                      |4/7/09  |116   |0.0  |[ugh,, just, read, on, #cnn, that, they, found, the, cantu, girl's, body, in, a, pond, near, their, home., how, terrible, for, her, family]                             |(262145,[34121,36691,53570,60179,87405,128081,143845,150278,166975,221017,239452,253698,262144],[6.76804333535702,9.210390370726225,5.176149732573829,6.812495097927854,5.1586054229229195,9.210390370726225,5.9522938327047425,6.684661726417969,8.29409963885207,5.7138828092597445,7.505642278487799,9.210390370726225,116.0])                                                                                                                                                                                                                                                                                   |0.0       |\n",
      "|0       |@markress understand that, we are all busy. I can only tweet after work.                                                                 |4/7/09  |73    |0.0  |[@markress, understand, that,, we, are, all, busy., i, can, only, tweet, after, work.]                                                                                  |(262145,[41649,124399,182660,222808,225159,234744,262144],[8.80492526261806,5.268808563056534,8.29409963885207,5.39267804476932,6.214658097172233,6.6077006852818405,73.0])                                                                                                                                                                                                                                                                                                                                                                                                                                         |0.0       |\n",
      "|0       |@samsungimaging better get your auto feature ironed out. that blast of advertisements was nothing less than industrial strength spam!    |4/7/09  |134   |0.0  |[@samsungimaging, better, get, your, auto, feature, ironed, out., that, blast, of, advertisements, was, nothing, less, than, industrial, strength, spam!]               |(262145,[4507,16337,25324,34146,38233,59096,75949,105627,116996,123874,218787,235375,245642,252722,262144],[9.210390370726225,7.264480221670911,8.80492526261806,7.7063129739499505,9.210390370726225,7.957627402230856,7.957627402230856,6.292619638641946,5.176149732573829,5.8962043660536985,9.210390370726225,4.402279340741443,9.210390370726225,3.042873879837883,134.0])                                                                                                                                                                                                                                    |0.0       |\n",
      "|0       |@GillianMe Yeah he was                                                                                                                   |4/7/09  |23    |0.0  |[@gillianme, yeah, he, was]                                                                                                                                             |(262145,[82065,107888,262144],[5.059350464827578,9.210390370726225,23.0])                                                                                                                                                                                                                                                                                                                                                                                                                                                                                                                                           |1.0       |\n",
      "|0       |@dougiemcfly hey saw u guys play @ pushover..didn't get 2 meet u tho cuz of th HUGE line  i was very upset lol..a msg would make up 4 it!|4/7/09  |137   |0.0  |[@dougiemcfly, hey, saw, u, guys, play, @, pushover..didn't, get, 2, meet, u, tho, cuz, of, th, huge, line, , i, was, very, upset, lol..a, msg, would, make, up, 4, it!]|(262145,[12524,45176,45190,51783,61756,89717,90225,101376,110078,112225,120504,123981,149321,150239,153524,155889,186369,194802,223018,245415,249180,252722,259059,262144],[3.9399582076677233,4.919930929577833,6.053389949576111,7.638076276421997,4.873099629893734,4.179952449333789,5.268808563056534,5.167339102891674,6.725483720938224,8.80492526261806,7.264480221670911,5.403727880955905,5.971711918561844,6.907805277732178,5.5597321294324855,6.684661726417969,5.8962043660536985,4.610232726561677,7.7063129739499505,5.107747005689428,1.1221356436037935,3.042873879837883,8.80492526261806,137.0])|0.0       |\n",
      "+--------+-----------------------------------------------------------------------------------------------------------------------------------------+--------+------+-----+------------------------------------------------------------------------------------------------------------------------------------------------------------------------+--------------------------------------------------------------------------------------------------------------------------------------------------------------------------------------------------------------------------------------------------------------------------------------------------------------------------------------------------------------------------------------------------------------------------------------------------------------------------------------------------------------------------------------------------------------------------------------------------------------------+----------+\n",
      "only showing top 20 rows\n",
      "\n"
     ]
    }
   ],
   "source": [
    "test_results[\"polarity\",'text','new_date',\"length\",\"label\", \"token_text\",\"features\", \"prediction\"].show(truncate=False)"
   ]
  },
  {
   "cell_type": "code",
   "execution_count": 19,
   "metadata": {
    "colab": {
     "base_uri": "https://localhost:8080/"
    },
    "executionInfo": {
     "elapsed": 1812,
     "status": "ok",
     "timestamp": 1652650492087,
     "user": {
      "displayName": "Ilan",
      "userId": "09321244954808786476"
     },
     "user_tz": 420
    },
    "id": "u1xezCR7Z3aP",
    "outputId": "c40b216f-8e19-4dd2-f09d-1c9038fe11af"
   },
   "outputs": [
    {
     "name": "stdout",
     "output_type": "stream",
     "text": [
      "polarity , int\n",
      "id , int\n",
      "date , string\n",
      "query , string\n",
      "user , string\n",
      "text , string\n",
      "new_date , string\n",
      "length , int\n",
      "label , double\n",
      "token_text , array<string>\n",
      "stop_tokens , array<string>\n",
      "hash_token , vector\n",
      "idf_token , vector\n",
      "features , vector\n",
      "rawPrediction , vector\n",
      "probability , vector\n",
      "prediction , double\n"
     ]
    }
   ],
   "source": [
    "for col in test_results.dtypes:\n",
    "    print(col[0]+\" , \"+col[1])"
   ]
  },
  {
   "cell_type": "code",
   "execution_count": 20,
   "metadata": {
    "colab": {
     "base_uri": "https://localhost:8080/"
    },
    "executionInfo": {
     "elapsed": 6255,
     "status": "ok",
     "timestamp": 1652650498338,
     "user": {
      "displayName": "Ilan",
      "userId": "09321244954808786476"
     },
     "user_tz": 420
    },
    "id": "gSqAylgwfq7-",
    "outputId": "03dade5e-a32b-4ae7-bae7-345e4b748aae"
   },
   "outputs": [
    {
     "name": "stdout",
     "output_type": "stream",
     "text": [
      "+--------+----------+----------------------------+--------+--------------+-----------------------------------------------------------------------------------------------------------------------------------------+--------+------+-----+-----------------------------------------------------------------------------------------------------------------------------------------+------------------------------------------------------------------------------------------------------------------+------------------------------------------------------------------------------------------------------------------------------------------------------------------------------------------------------------------------------------------------------------------+-------------------------------------------------------------------------------------------------------------------------------------------------------------------------------------------------------------------------------------------------------------------------------------------------------------------------------------------------------------------------------------------------------------------------------------------------------------------------------------------------------------------------------------------------------------------------------------------------------+--------------------------------------------------------------------------------------------------------------------------------------------------------------------------------------------------------------------------------------------------------------------------------------------------------------------------------------------------------------------------------------------------------------------------------------------------------------------------------------------------------------------------------------------------------------------------------------------------------------------+-----------------------------------------+-------------------------------------------+----------+\n",
      "|polarity|id        |date                        |query   |user          |text                                                                                                                                     |new_date|length|label|token_text                                                                                                                               |stop_tokens                                                                                                       |hash_token                                                                                                                                                                                                                                                        |idf_token                                                                                                                                                                                                                                                                                                                                                                                                                                                                                                                                                                                              |features                                                                                                                                                                                                                                                                                                                                                                                                                                                                                                                                                                                                            |rawPrediction                            |probability                                |prediction|\n",
      "+--------+----------+----------------------------+--------+--------------+-----------------------------------------------------------------------------------------------------------------------------------------+--------+------+-----+-----------------------------------------------------------------------------------------------------------------------------------------+------------------------------------------------------------------------------------------------------------------+------------------------------------------------------------------------------------------------------------------------------------------------------------------------------------------------------------------------------------------------------------------+-------------------------------------------------------------------------------------------------------------------------------------------------------------------------------------------------------------------------------------------------------------------------------------------------------------------------------------------------------------------------------------------------------------------------------------------------------------------------------------------------------------------------------------------------------------------------------------------------------+--------------------------------------------------------------------------------------------------------------------------------------------------------------------------------------------------------------------------------------------------------------------------------------------------------------------------------------------------------------------------------------------------------------------------------------------------------------------------------------------------------------------------------------------------------------------------------------------------------------------+-----------------------------------------+-------------------------------------------+----------+\n",
      "|0       |1468159766|Tue Apr 07 00:02:28 PDT 2009|NO_QUERY|amcpodcast    |@Skunkie Sorry, I guess sarcasm is hard to show in 130 characters.                                                                       |4/7/09  |68    |0.0  |@skunkie,sorry,,i,guess,sarcasm,is,hard,to,show,in,130,characters.                                                                       |@skunkie,sorry,,guess,sarcasm,hard,show,130,characters.                                                           |(262144,[2437,108063,116408,146050,189716,225681,245731,256883],[1.0,1.0,1.0,1.0,1.0,1.0,1.0,1.0])                                                                                                                                                                |(262144,[2437,108063,116408,146050,189716,225681,245731,256883],[5.259146652144797,8.51724319016628,6.4378016484864435,9.210390370726225,4.961895128676866,8.51724319016628,5.099516506552913,9.210390370726225])                                                                                                                                                                                                                                                                                                                                                                                      |(262145,[2437,108063,116408,146050,189716,225681,245731,256883,262144],[5.259146652144797,8.51724319016628,6.4378016484864435,9.210390370726225,4.961895128676866,8.51724319016628,5.099516506552913,9.210390370726225,68.0])                                                                                                                                                                                                                                                                                                                                                                                       |[-717.1927565700546,-728.1113618341803]  |[0.9999818823395866,1.8117660413285056E-5] |0.0       |\n",
      "|0       |1468160655|Tue Apr 07 00:02:47 PDT 2009|NO_QUERY|hamb0         |@honeyortar the hinge broke  it works, just doesn't open smoothly and it's pissing me off. I dunno I'll see if it can be fixed first.    |4/7/09  |133   |0.0  |@honeyortar,the,hinge,broke,,it,works,,just,doesn't,open,smoothly,and,it's,pissing,me,off.,i,dunno,i'll,see,if,it,can,be,fixed,first.    |@honeyortar,hinge,broke,,works,,open,smoothly,pissing,off.,dunno,see,fixed,first.                                 |(262144,[8538,33197,40698,60244,112971,149980,158572,169527,191510,192278,220001,229431,249180],[1.0,1.0,1.0,1.0,1.0,1.0,1.0,1.0,1.0,1.0,1.0,1.0,1.0])                                                                                                            |(262144,[8538,33197,40698,60244,112971,149980,158572,169527,191510,192278,220001,229431,249180],[3.568483299788111,8.51724319016628,9.210390370726225,9.210390370726225,6.09687506151585,7.19548735018396,7.600952458292124,6.032336540378279,6.40702998981969,6.907805277732178,8.29409963885207,9.210390370726225,1.1221356436037935])                                                                                                                                                                                                                                                               |(262145,[8538,33197,40698,60244,112971,149980,158572,169527,191510,192278,220001,229431,249180,262144],[3.568483299788111,8.51724319016628,9.210390370726225,9.210390370726225,6.09687506151585,7.19548735018396,7.600952458292124,6.032336540378279,6.40702998981969,6.907805277732178,8.29409963885207,9.210390370726225,1.1221356436037935,133.0])                                                                                                                                                                                                                                                               |[-1129.9684510864552,-1175.2724614644026]|[1.0,2.1121185205064296E-20]               |0.0       |\n",
      "|0       |1468161997|Tue Apr 07 00:03:12 PDT 2009|NO_QUERY|mixgrindhnic  |@BrandzHD TAKIN A BREAK FROM THE CLUBS PLEASE DONT TELL ME WHERE U AT                                                                    |4/7/09  |70    |0.0  |@brandzhd,takin,a,break,from,the,clubs,please,dont,tell,me,where,u,at                                                                    |@brandzhd,takin,break,clubs,please,dont,tell,u                                                                    |(262144,[40912,51783,85530,87273,124348,166368,179995,199917],[1.0,1.0,1.0,1.0,1.0,1.0,1.0,1.0])                                                                                                                                                                  |(262144,[40912,51783,85530,87273,124348,166368,179995,199917],[8.80492526261806,3.8190381382109986,5.12441405817464,4.570818758020801,6.011717253175543,4.847291745937862,7.505642278487799,9.210390370726225])                                                                                                                                                                                                                                                                                                                                                                                        |(262145,[40912,51783,85530,87273,124348,166368,179995,199917,262144],[8.80492526261806,3.8190381382109986,5.12441405817464,4.570818758020801,6.011717253175543,4.847291745937862,7.505642278487799,9.210390370726225,70.0])                                                                                                                                                                                                                                                                                                                                                                                         |[-590.8295296996431,-601.6517021803124]  |[0.9999800482247304,1.9951775269578206E-5] |0.0       |\n",
      "|0       |1468163061|Tue Apr 07 00:03:34 PDT 2009|NO_QUERY|fantatango    |@Gen_Marie  I hope we can fix you in California at least.....                                                                            |4/7/09  |61    |0.0  |@gen_marie,,i,hope,we,can,fix,you,in,california,at,least.....                                                                            |@gen_marie,,hope,fix,california,least.....                                                                        |(262144,[128160,164695,207112,237532,249180,252060],[1.0,1.0,1.0,1.0,1.0,1.0])                                                                                                                                                                                    |(262144,[128160,164695,207112,237532,249180,252060],[3.9399582076677233,9.210390370726225,8.111778082058114,7.130948829046388,1.1221356436037935,9.210390370726225])                                                                                                                                                                                                                                                                                                                                                                                                                                   |(262145,[128160,164695,207112,237532,249180,252060,262144],[3.9399582076677233,9.210390370726225,8.111778082058114,7.130948829046388,1.1221356436037935,9.210390370726225,61.0])                                                                                                                                                                                                                                                                                                                                                                                                                                    |[-506.6067988972389,-507.1486454204833]  |[0.6322418614578834,0.36775813854211664]   |0.0       |\n",
      "|0       |1468167146|Tue Apr 07 00:04:55 PDT 2009|NO_QUERY|Li_a          |Finds her mom rly annoying. I need to detox and do an H2O day. My skin is shitting.                                                      |4/7/09  |84    |0.0  |finds,her,mom,rly,annoying.,i,need,to,detox,and,do,an,h2o,day.,my,skin,is,shitting.                                                      |finds,mom,rly,annoying.,need,detox,h2o,day.,skin,shitting.                                                        |(262144,[40553,83161,83668,119864,127581,141269,148123,202002,212915,220267],[1.0,1.0,1.0,1.0,1.0,1.0,1.0,1.0,1.0,1.0])                                                                                                                                           |(262144,[40553,83161,83668,119864,127581,141269,148123,202002,212915,220267],[7.505642278487799,3.8996504841796304,7.505642278487799,8.80492526261806,9.210390370726225,5.599472458082,7.8240960096063334,5.30841770115158,9.210390370726225,9.210390370726225])                                                                                                                                                                                                                                                                                                                                       |(262145,[40553,83161,83668,119864,127581,141269,148123,202002,212915,220267,262144],[7.505642278487799,3.8996504841796304,7.505642278487799,8.80492526261806,9.210390370726225,5.599472458082,7.8240960096063334,5.30841770115158,9.210390370726225,9.210390370726225,84.0])                                                                                                                                                                                                                                                                                                                                        |[-944.4377906036077,-939.3701958318964]  |[0.0062581380513934805,0.9937418619486065] |1.0       |\n",
      "|0       |1468167349|Tue Apr 07 00:04:59 PDT 2009|NO_QUERY|_LLcoolV_     |I'm off to bed... way to late... will likely be a sac a shit at work tomorrow.                                                           |4/7/09  |80    |0.0  |i'm,off,to,bed...,way,to,late...,will,likely,be,a,sac,a,shit,at,work,tomorrow.                                                           |bed...,way,late...,likely,sac,shit,work,tomorrow.                                                                 |(262144,[16293,34343,51471,52671,61080,64076,70618,241121],[1.0,1.0,1.0,1.0,1.0,1.0,1.0,1.0])                                                                                                                                                                     |(262144,[16293,34343,51471,52671,61080,64076,70618,241121],[7.8240960096063334,3.387344475243206,4.362274006127744,8.80492526261806,5.933245637734048,5.991514545858023,7.264480221670911,9.210390370726225])                                                                                                                                                                                                                                                                                                                                                                                          |(262145,[16293,34343,51471,52671,61080,64076,70618,241121,262144],[7.8240960096063334,3.387344475243206,4.362274006127744,8.80492526261806,5.933245637734048,5.991514545858023,7.264480221670911,9.210390370726225,80.0])                                                                                                                                                                                                                                                                                                                                                                                           |[-643.6430724506251,-658.2149626793096]  |[0.9999995306376184,4.6936238167099094E-7] |0.0       |\n",
      "|0       |1468167571|Tue Apr 07 00:05:02 PDT 2009|NO_QUERY|SilkCharm     |@kcarruthers I'm only 540 years old in pixie years.                                                                                      |4/7/09  |52    |0.0  |@kcarruthers,i'm,only,540,years,old,in,pixie,years.                                                                                      |@kcarruthers,540,years,old,pixie,years.                                                                           |(262144,[52677,76106,160622,182235,252934,256394],[1.0,1.0,1.0,1.0,1.0,1.0])                                                                                                                                                                                      |(262144,[52677,76106,160622,182235,252934,256394],[8.80492526261806,6.011717253175543,7.600952458292124,4.961895128676866,8.80492526261806,8.80492526261806])                                                                                                                                                                                                                                                                                                                                                                                                                                          |(262145,[52677,76106,160622,182235,252934,256394,262144],[8.80492526261806,6.011717253175543,7.600952458292124,4.961895128676866,8.80492526261806,8.80492526261806,52.0])                                                                                                                                                                                                                                                                                                                                                                                                                                           |[-566.5699319664168,-590.9994459030689]  |[0.9999999999754305,2.4569532995537904E-11]|0.0       |\n",
      "|0       |1468167936|Tue Apr 07 00:05:09 PDT 2009|NO_QUERY|dontlookaway  |body clock still up the chuffer..note never ever stay up late again -also afro is back                                                   |4/7/09  |87    |0.0  |body,clock,still,up,the,chuffer..note,never,ever,stay,up,late,again,-also,afro,is,back                                                   |body,clock,still,chuffer..note,never,ever,stay,late,-also,afro,back                                               |(262144,[21205,22171,31536,34121,68727,73249,113673,132270,162570,203802,253521],[1.0,1.0,1.0,1.0,1.0,1.0,1.0,1.0,1.0,1.0,1.0])                                                                                                                                   |(262144,[21205,22171,31536,34121,68727,73249,113673,132270,162570,203802,253521],[9.210390370726225,9.210390370726225,3.6119684117278497,6.76804333535702,5.212189669057026,5.472720752442856,4.514465821469669,3.429646854933895,9.210390370726225,5.1850386799910755,7.41863090149817])                                                                                                                                                                                                                                                                                                              |(262145,[21205,22171,31536,34121,68727,73249,113673,132270,162570,203802,253521,262144],[9.210390370726225,9.210390370726225,3.6119684117278497,6.76804333535702,5.212189669057026,5.472720752442856,4.514465821469669,3.429646854933895,9.210390370726225,5.1850386799910755,7.41863090149817,87.0])                                                                                                                                                                                                                                                                                                               |[-824.0517342714749,-837.3243053509532]  |[0.9999982789445137,1.721055486277915E-6]  |0.0       |\n",
      "|0       |1468168741|Tue Apr 07 00:05:25 PDT 2009|NO_QUERY|erriiinnn     |blahhh, my throat is sore &amp; i keep coughing. i hate being sick                                                                       |4/7/09  |67    |0.0  |blahhh,,my,throat,is,sore,&amp;,i,keep,coughing.,i,hate,being,sick                                                                       |blahhh,,throat,sore,&amp;,keep,coughing.,hate,sick                                                                |(262144,[7241,32890,54480,72709,130236,234437,255484,261677],[1.0,1.0,1.0,1.0,1.0,1.0,1.0,1.0])                                                                                                                                                                   |(262144,[7241,32890,54480,72709,130236,234437,255484,261677],[9.210390370726225,5.091353195913753,3.787645425803136,4.505374849768417,6.074896154797075,9.210390370726225,6.469550346801023,4.919930929577833])                                                                                                                                                                                                                                                                                                                                                                                        |(262145,[7241,32890,54480,72709,130236,234437,255484,261677,262144],[9.210390370726225,5.091353195913753,3.787645425803136,4.505374849768417,6.074896154797075,9.210390370726225,6.469550346801023,4.919930929577833,67.0])                                                                                                                                                                                                                                                                                                                                                                                         |[-572.2521813706973,-608.8715753452136]  |[0.9999999999999998,1.2485308166696957E-16]|0.0       |\n",
      "|0       |1468169708|Tue Apr 07 00:05:40 PDT 2009|NO_QUERY|oleroleroler  |3 in the morning and I can't sleep.                                                                                                      |4/7/09  |36    |0.0  |3,in,the,morning,and,i,can't,sleep.                                                                                                      |3,morning,sleep.                                                                                                  |(262144,[22411,131672,168590],[1.0,1.0,1.0])                                                                                                                                                                                                                      |(262144,[22411,131672,168590],[6.165867933002802,3.9528949986984427,4.947710493684909])                                                                                                                                                                                                                                                                                                                                                                                                                                                                                                                |(262145,[22411,131672,168590,262144],[6.165867933002802,3.9528949986984427,4.947710493684909,36.0])                                                                                                                                                                                                                                                                                                                                                                                                                                                                                                                 |[-159.3658793626904,-160.58533830085125] |[0.7719683185773129,0.22803168142268726]   |0.0       |\n",
      "|0       |1468169853|Tue Apr 07 00:05:44 PDT 2009|NO_QUERY|KIKILICOUS    |Just wrote a 2 pg paper n 30 min, studied n now off 2 bed. Gotta wake up n 3 hours. OH JOY!  Nite all!                                   |4/7/09  |102   |0.0  |just,wrote,a,2,pg,paper,n,30,min,,studied,n,now,off,2,bed.,gotta,wake,up,n,3,hours.,oh,joy!,,nite,all!                                   |wrote,2,pg,paper,n,30,min,,studied,n,2,bed.,gotta,wake,n,3,hours.,oh,joy!,,nite,all!                              |(262144,[11275,12524,18184,43237,49769,52644,58967,72510,77924,92754,93206,138651,157506,168590,217817,230168,249180,257750],[1.0,2.0,1.0,1.0,1.0,3.0,1.0,1.0,1.0,1.0,1.0,1.0,1.0,1.0,1.0,1.0,1.0,1.0])                                                           |(262144,[11275,12524,18184,43237,49769,52644,58967,72510,77924,92754,93206,138651,157506,168590,217817,230168,249180,257750],[5.82600010738045,7.879916415335447,3.9120730041781875,5.1586054229229195,8.29409963885207,16.211183642867713,6.6077006852818405,6.032336540378279,8.29409963885207,8.29409963885207,6.265951391559784,9.210390370726225,6.536241721299696,4.947710493684909,7.264480221670911,5.655042309236811,1.1221356436037935,6.4378016484864435])                                                                                                                                  |(262145,[11275,12524,18184,43237,49769,52644,58967,72510,77924,92754,93206,138651,157506,168590,217817,230168,249180,257750,262144],[5.82600010738045,7.879916415335447,3.9120730041781875,5.1586054229229195,8.29409963885207,16.211183642867713,6.6077006852818405,6.032336540378279,8.29409963885207,8.29409963885207,6.265951391559784,9.210390370726225,6.536241721299696,4.947710493684909,7.264480221670911,5.655042309236811,1.1221356436037935,6.4378016484864435,102.0])                                                                                                                                  |[-1350.1630438530453,-1323.6046306773587]|[2.9229925583727287E-12,0.999999999997077] |1.0       |\n",
      "|0       |1468170137|Tue Apr 07 00:05:48 PDT 2009|NO_QUERY|phillmidwinter|or should i say my brain needs to optimise my neural search pathways to find my muscles again                                            |4/7/09  |94    |0.0  |or,should,i,say,my,brain,needs,to,optimise,my,neural,search,pathways,to,find,my,muscles,again                                            |say,brain,needs,optimise,neural,search,pathways,find,muscles                                                      |(262144,[42482,66669,91878,171222,197009,198060,202878,221552,249607],[1.0,1.0,1.0,1.0,1.0,1.0,1.0,1.0,1.0])                                                                                                                                                      |(262144,[42482,66669,91878,171222,197009,198060,202878,221552,249607],[9.210390370726225,7.600952458292124,4.756043074472717,4.595269853884965,6.812495097927854,9.210390370726225,5.991514545858023,8.29409963885207,6.907805277732178])                                                                                                                                                                                                                                                                                                                                                              |(262145,[42482,66669,91878,171222,197009,198060,202878,221552,249607,262144],[9.210390370726225,7.600952458292124,4.756043074472717,4.595269853884965,6.812495097927854,9.210390370726225,5.991514545858023,8.29409963885207,6.907805277732178,94.0])                                                                                                                                                                                                                                                                                                                                                               |[-772.1403388153936,-811.1139354691165]  |[1.0,1.185719694277728E-17]                |0.0       |\n",
      "|0       |1468170829|Tue Apr 07 00:06:01 PDT 2009|NO_QUERY|WooopJess     |Twitter woke me up                                                                                                                       |4/7/09  |19    |0.0  |twitter,woke,me,up                                                                                                                       |twitter,woke                                                                                                      |(262144,[1512,75373],[1.0,1.0])                                                                                                                                                                                                                                   |(262144,[1512,75373],[4.006383683649429,5.167339102891674])                                                                                                                                                                                                                                                                                                                                                                                                                                                                                                                                            |(262145,[1512,75373,262144],[4.006383683649429,5.167339102891674,19.0])                                                                                                                                                                                                                                                                                                                                                                                                                                                                                                                                             |[-91.75939918040399,-91.95966963711908]  |[0.5499009389290205,0.4500990610709795]    |0.0       |\n",
      "|0       |1468171865|Tue Apr 07 00:06:24 PDT 2009|NO_QUERY|msJLoh        |@mrskutcher I was just thinking that today - how deprssing it all is!  Makes us appreciate life more.                                    |4/7/09  |101   |0.0  |@mrskutcher,i,was,just,thinking,that,today,-,how,deprssing,it,all,is!,,makes,us,appreciate,life,more.                                    |@mrskutcher,thinking,today,-,deprssing,is!,,makes,us,appreciate,life,more.                                        |(262144,[32983,38640,64238,109156,143689,167227,172517,180288,197913,199581,219766,249180],[1.0,1.0,1.0,1.0,1.0,1.0,1.0,1.0,1.0,1.0,1.0,1.0])                                                                                                                     |(262144,[32983,38640,64238,109156,143689,167227,172517,180288,197913,199581,219766,249180],[5.328826572782787,3.1857328562624785,3.6691268255677985,4.886257714471245,8.111778082058114,7.7063129739499505,4.961895128676866,6.907805277732178,9.210390370726225,5.149947360179805,6.76804333535702,1.1221356436037935])                                                                                                                                                                                                                                                                               |(262145,[32983,38640,64238,109156,143689,167227,172517,180288,197913,199581,219766,249180,262144],[5.328826572782787,3.1857328562624785,3.6691268255677985,4.886257714471245,8.111778082058114,7.7063129739499505,4.961895128676866,6.907805277732178,9.210390370726225,5.149947360179805,6.76804333535702,1.1221356436037935,101.0])                                                                                                                                                                                                                                                                               |[-787.0454767590323,-741.8285857451541]  |[2.3043781247263284E-20,1.0]               |1.0       |\n",
      "|0       |1468173029|Tue Apr 07 00:06:44 PDT 2009|NO_QUERY|ScottRhodie   |@Warlach Curse ye!! Have fun at it. I miss doing online PR for Paramount Pics                                                            |4/7/09  |78    |0.0  |@warlach,curse,ye!!,have,fun,at,it.,i,miss,doing,online,pr,for,paramount,pics                                                            |@warlach,curse,ye!!,fun,it.,miss,online,pr,paramount,pics                                                         |(262144,[23087,50671,79606,89820,112019,122361,143501,146984,232735,245293],[1.0,1.0,1.0,1.0,1.0,1.0,1.0,1.0,1.0,1.0])                                                                                                                                            |(262144,[23087,50671,79606,89820,112019,122361,143501,146984,232735,245293],[4.418740617795515,6.119347917367908,6.142337435592608,8.80492526261806,9.210390370726225,8.80492526261806,4.840942518259203,9.210390370726225,3.9021226733250196,8.80492526261806])                                                                                                                                                                                                                                                                                                                                       |(262145,[23087,50671,79606,89820,112019,122361,143501,146984,232735,245293,262144],[4.418740617795515,6.119347917367908,6.142337435592608,8.80492526261806,9.210390370726225,8.80492526261806,4.840942518259203,9.210390370726225,3.9021226733250196,8.80492526261806,78.0])                                                                                                                                                                                                                                                                                                                                        |[-872.2597764005823,-890.637291108701]   |[0.9999999895588877,1.0441112294379541E-8] |0.0       |\n",
      "|0       |1468173373|Tue Apr 07 00:06:51 PDT 2009|NO_QUERY|Elligirl      |ugh, just read on #CNN that they found the Cantu girl's body in a pond near their home. How terrible for her family                      |4/7/09  |116   |0.0  |ugh,,just,read,on,#cnn,that,they,found,the,cantu,girl's,body,in,a,pond,near,their,home.,how,terrible,for,her,family                      |ugh,,read,#cnn,found,cantu,girl's,body,pond,near,home.,terrible,family                                            |(262144,[34121,36691,53570,60179,87405,128081,143845,150278,166975,221017,239452,253698],[1.0,1.0,1.0,1.0,1.0,1.0,1.0,1.0,1.0,1.0,1.0,1.0])                                                                                                                       |(262144,[34121,36691,53570,60179,87405,128081,143845,150278,166975,221017,239452,253698],[6.76804333535702,9.210390370726225,5.176149732573829,6.812495097927854,5.1586054229229195,9.210390370726225,5.9522938327047425,6.684661726417969,8.29409963885207,5.7138828092597445,7.505642278487799,9.210390370726225])                                                                                                                                                                                                                                                                                   |(262145,[34121,36691,53570,60179,87405,128081,143845,150278,166975,221017,239452,253698,262144],[6.76804333535702,9.210390370726225,5.176149732573829,6.812495097927854,5.1586054229229195,9.210390370726225,5.9522938327047425,6.684661726417969,8.29409963885207,5.7138828092597445,7.505642278487799,9.210390370726225,116.0])                                                                                                                                                                                                                                                                                   |[-1040.5896861201568,-1099.2896173893425]|[1.0,3.2132444174692346E-26]               |0.0       |\n",
      "|0       |1468173987|Tue Apr 07 00:07:03 PDT 2009|NO_QUERY|RommelCali    |@markress understand that, we are all busy. I can only tweet after work.                                                                 |4/7/09  |73    |0.0  |@markress,understand,that,,we,are,all,busy.,i,can,only,tweet,after,work.                                                                 |@markress,understand,that,,busy.,tweet,work.                                                                      |(262144,[41649,124399,182660,222808,225159,234744],[1.0,1.0,1.0,1.0,1.0,1.0])                                                                                                                                                                                     |(262144,[41649,124399,182660,222808,225159,234744],[8.80492526261806,5.268808563056534,8.29409963885207,5.39267804476932,6.214658097172233,6.6077006852818405])                                                                                                                                                                                                                                                                                                                                                                                                                                        |(262145,[41649,124399,182660,222808,225159,234744,262144],[8.80492526261806,5.268808563056534,8.29409963885207,5.39267804476932,6.214658097172233,6.6077006852818405,73.0])                                                                                                                                                                                                                                                                                                                                                                                                                                         |[-490.24553412381744,-495.4933409121612] |[0.9947684728625239,0.005231527137476181]  |0.0       |\n",
      "|0       |1468174134|Tue Apr 07 00:07:05 PDT 2009|NO_QUERY|ddgriffith    |@samsungimaging better get your auto feature ironed out. that blast of advertisements was nothing less than industrial strength spam!    |4/7/09  |134   |0.0  |@samsungimaging,better,get,your,auto,feature,ironed,out.,that,blast,of,advertisements,was,nothing,less,than,industrial,strength,spam!    |@samsungimaging,better,get,auto,feature,ironed,out.,blast,advertisements,nothing,less,industrial,strength,spam!   |(262144,[4507,16337,25324,34146,38233,59096,75949,105627,116996,123874,218787,235375,245642,252722],[1.0,1.0,1.0,1.0,1.0,1.0,1.0,1.0,1.0,1.0,1.0,1.0,1.0,1.0])                                                                                                    |(262144,[4507,16337,25324,34146,38233,59096,75949,105627,116996,123874,218787,235375,245642,252722],[9.210390370726225,7.264480221670911,8.80492526261806,7.7063129739499505,9.210390370726225,7.957627402230856,7.957627402230856,6.292619638641946,5.176149732573829,5.8962043660536985,9.210390370726225,4.402279340741443,9.210390370726225,3.042873879837883])                                                                                                                                                                                                                                    |(262145,[4507,16337,25324,34146,38233,59096,75949,105627,116996,123874,218787,235375,245642,252722,262144],[9.210390370726225,7.264480221670911,8.80492526261806,7.7063129739499505,9.210390370726225,7.957627402230856,7.957627402230856,6.292619638641946,5.176149732573829,5.8962043660536985,9.210390370726225,4.402279340741443,9.210390370726225,3.042873879837883,134.0])                                                                                                                                                                                                                                    |[-1307.7212108349124,-1319.6919804663055]|[0.9999936735794636,6.326420536391266E-6]  |0.0       |\n",
      "|0       |1468174290|Tue Apr 07 00:07:08 PDT 2009|NO_QUERY|emmaketurah   |@GillianMe Yeah he was                                                                                                                   |4/7/09  |23    |0.0  |@gillianme,yeah,he,was                                                                                                                   |@gillianme,yeah                                                                                                   |(262144,[82065,107888],[1.0,1.0])                                                                                                                                                                                                                                 |(262144,[82065,107888],[5.059350464827578,9.210390370726225])                                                                                                                                                                                                                                                                                                                                                                                                                                                                                                                                          |(262145,[82065,107888,262144],[5.059350464827578,9.210390370726225,23.0])                                                                                                                                                                                                                                                                                                                                                                                                                                                                                                                                           |[-191.57021684834012,-190.726737667324]  |[0.30080253461716777,0.6991974653828323]   |1.0       |\n",
      "|0       |1468174531|Tue Apr 07 00:07:12 PDT 2009|NO_QUERY|mcsteph94     |@dougiemcfly hey saw u guys play @ pushover..didn't get 2 meet u tho cuz of th HUGE line  i was very upset lol..a msg would make up 4 it!|4/7/09  |137   |0.0  |@dougiemcfly,hey,saw,u,guys,play,@,pushover..didn't,get,2,meet,u,tho,cuz,of,th,huge,line,,i,was,very,upset,lol..a,msg,would,make,up,4,it!|@dougiemcfly,hey,saw,u,guys,play,@,pushover..didn't,get,2,meet,u,tho,cuz,th,huge,line,,upset,lol..a,msg,make,4,it!|(262144,[12524,45176,45190,51783,61756,89717,90225,101376,110078,112225,120504,123981,149321,150239,153524,155889,186369,194802,223018,245415,249180,252722,259059],[1.0,1.0,1.0,2.0,1.0,1.0,1.0,1.0,1.0,1.0,1.0,1.0,1.0,1.0,1.0,1.0,1.0,1.0,1.0,1.0,1.0,1.0,1.0])|(262144,[12524,45176,45190,51783,61756,89717,90225,101376,110078,112225,120504,123981,149321,150239,153524,155889,186369,194802,223018,245415,249180,252722,259059],[3.9399582076677233,4.919930929577833,6.053389949576111,7.638076276421997,4.873099629893734,4.179952449333789,5.268808563056534,5.167339102891674,6.725483720938224,8.80492526261806,7.264480221670911,5.403727880955905,5.971711918561844,6.907805277732178,5.5597321294324855,6.684661726417969,5.8962043660536985,4.610232726561677,7.7063129739499505,5.107747005689428,1.1221356436037935,3.042873879837883,8.80492526261806])|(262145,[12524,45176,45190,51783,61756,89717,90225,101376,110078,112225,120504,123981,149321,150239,153524,155889,186369,194802,223018,245415,249180,252722,259059,262144],[3.9399582076677233,4.919930929577833,6.053389949576111,7.638076276421997,4.873099629893734,4.179952449333789,5.268808563056534,5.167339102891674,6.725483720938224,8.80492526261806,7.264480221670911,5.403727880955905,5.971711918561844,6.907805277732178,5.5597321294324855,6.684661726417969,5.8962043660536985,4.610232726561677,7.7063129739499505,5.107747005689428,1.1221356436037935,3.042873879837883,8.80492526261806,137.0])|[-1349.3811846666788,-1404.327433725202] |[1.0,1.3713465952485472E-24]               |0.0       |\n",
      "+--------+----------+----------------------------+--------+--------------+-----------------------------------------------------------------------------------------------------------------------------------------+--------+------+-----+-----------------------------------------------------------------------------------------------------------------------------------------+------------------------------------------------------------------------------------------------------------------+------------------------------------------------------------------------------------------------------------------------------------------------------------------------------------------------------------------------------------------------------------------+-------------------------------------------------------------------------------------------------------------------------------------------------------------------------------------------------------------------------------------------------------------------------------------------------------------------------------------------------------------------------------------------------------------------------------------------------------------------------------------------------------------------------------------------------------------------------------------------------------+--------------------------------------------------------------------------------------------------------------------------------------------------------------------------------------------------------------------------------------------------------------------------------------------------------------------------------------------------------------------------------------------------------------------------------------------------------------------------------------------------------------------------------------------------------------------------------------------------------------------+-----------------------------------------+-------------------------------------------+----------+\n",
      "only showing top 20 rows\n",
      "\n"
     ]
    }
   ],
   "source": [
    "from pyspark.sql.functions import col, concat_ws\n",
    "test_results2 = test_results.withColumn(\"token_text\", concat_ws(\",\",col(\"token_text\")))\n",
    "test_results3 = test_results2.withColumn(\"stop_tokens\", concat_ws(\",\",col(\"stop_tokens\")))\n",
    "test_results3.show(truncate=False)"
   ]
  },
  {
   "cell_type": "code",
   "execution_count": 21,
   "metadata": {
    "executionInfo": {
     "elapsed": 13110,
     "status": "ok",
     "timestamp": 1652650511434,
     "user": {
      "displayName": "Ilan",
      "userId": "09321244954808786476"
     },
     "user_tz": 420
    },
    "id": "aAL7ecfEw3Id"
   },
   "outputs": [],
   "source": [
    "# Write DataFrame to active_user table in RDS\n",
    "test_results['polarity','text','new_date',\"length\",\"label\", \"token_text\", \"prediction\"].write.jdbc(url=jdbc_url, table='test_results', mode=mode, properties=config)"
   ]
  }
 ],
 "metadata": {
  "colab": {
   "authorship_tag": "ABX9TyMzvGp6NTcu/0J5KsIw7QPb",
   "collapsed_sections": [],
   "name": "Sentiment_Analysis_NLP.ipynb",
   "provenance": []
  },
  "kernelspec": {
   "display_name": "mlenv2",
   "language": "python",
   "name": "mlenv2"
  },
  "language_info": {
   "codemirror_mode": {
    "name": "ipython",
    "version": 3
   },
   "file_extension": ".py",
   "mimetype": "text/x-python",
   "name": "python",
   "nbconvert_exporter": "python",
   "pygments_lexer": "ipython3",
   "version": "3.7.13"
  }
 },
 "nbformat": 4,
 "nbformat_minor": 1
}
