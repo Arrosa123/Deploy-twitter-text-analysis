{
 "cells": [
  {
   "cell_type": "code",
   "execution_count": 177,
   "id": "7dc800b7",
   "metadata": {},
   "outputs": [
    {
     "name": "stdout",
     "output_type": "stream",
     "text": [
      "(200000, 7)\n",
      " average target is 0.500000 \n"
     ]
    }
   ],
   "source": [
    "import sys\n",
    "\n",
    "import h2o\n",
    "import pandas as pd\n",
    "import numpy as np\n",
    "from scipy.stats import pearsonr #correlation\n",
    "from sklearn.feature_extraction.text import TfidfVectorizer\n",
    "import H2OGBMClassifier as hgb\n",
    "from sklearn.metrics import roc_auc_score\n",
    "import sys\n",
    "from collections import defaultdict\n",
    "import operator\n",
    "#import sys\n",
    "\n",
    "#reload(sys)  # Reload does the trick!\n",
    "#sys.setdefaultencoding('utf-8')\n",
    "\n",
    "#Dataset provided \n",
    "#file = './sentiment_m140_.csv'\n",
    "#twitter_df = pd.read_csv(file)\n",
    "#twitter_df = twitter_df.rename(columns={\"target\": \"polarity\", \"ids\": \"id\", \"flag\" : \"query\"})\n",
    "#twitter_df[\"new_date\"] = twitter_df[\"date\"]\n",
    "\n",
    "#Dataset Created\n",
    "file = './sentiment_analysis_10k.csv' \n",
    "twitter_df = pd.read_csv(file,encoding = \"ISO-8859-1\")\n",
    "\n",
    "\n",
    "print (twitter_df.shape)\n",
    "#Update the target to 0 or 1 -- came in as 0 or 4 \n",
    "twitter_df.loc[twitter_df[\"polarity\"] == 4,\"polarity\"] = 1\n",
    "print (\" average target is %f \"  % np.mean(twitter_df[\"polarity\"]))"
   ]
  },
  {
   "cell_type": "code",
   "execution_count": 179,
   "id": "e3eada10",
   "metadata": {},
   "outputs": [],
   "source": [
    "# Split up positive and negative tweets into two dataframes\n",
    "positive_tweets_df = twitter_df.loc[twitter_df[\"polarity\"] ==1]\n",
    "negative_tweets_df = twitter_df.loc[twitter_df[\"polarity\"] ==0]\n",
    "\n",
    "train_pos = positive_tweets_df[:int(len(positive_tweets_df)*0.8)]\n",
    "test_pos = positive_tweets_df[int(len(positive_tweets_df)*0.8):]\n",
    "train_neg = negative_tweets_df[:int(len(positive_tweets_df)*0.8)]\n",
    "test_neg = negative_tweets_df[int(len(positive_tweets_df)*0.8):]\n",
    "\n",
    "# combine positive and negative labels\n",
    "train_X = pd.concat([train_pos ,train_neg]) \n",
    "test_X = pd.concat([test_pos ,test_neg])\n",
    "\n"
   ]
  },
  {
   "cell_type": "code",
   "execution_count": 180,
   "id": "71a9c66b",
   "metadata": {},
   "outputs": [],
   "source": [
    "# create our target arrays\n",
    "train_y = train_X[\"polarity\"]\n",
    "test_y = test_X[\"polarity\"]"
   ]
  },
  {
   "cell_type": "code",
   "execution_count": 181,
   "id": "4449e11c",
   "metadata": {},
   "outputs": [],
   "source": [
    "# Remove the columns we're not using as features\n",
    "train_X.drop([\"polarity\"],inplace=True, axis=1)\n",
    "train_X.drop([\"id\"],inplace=True, axis=1)\n",
    "train_X.drop([\"date\"],inplace=True, axis=1)\n",
    "train_X.drop([\"query\"],inplace=True, axis=1)\n",
    "train_X.drop([\"user\"],inplace=True, axis=1)\n",
    "train_X.drop([\"new_date\"],inplace=True, axis=1)\n",
    "\n",
    "test_X.drop([\"polarity\"],inplace=True, axis=1)\n",
    "test_X.drop([\"id\"],inplace=True, axis=1)\n",
    "test_X.drop([\"date\"],inplace=True, axis=1)\n",
    "test_X.drop([\"query\"],inplace=True, axis=1)\n",
    "test_X.drop([\"user\"],inplace=True, axis=1)\n",
    "test_X.drop([\"new_date\"],inplace=True, axis=1)"
   ]
  },
  {
   "cell_type": "code",
   "execution_count": 182,
   "id": "fc470269",
   "metadata": {},
   "outputs": [
    {
     "name": "stdout",
     "output_type": "stream",
     "text": [
      "Checking whether there is an H2O instance running at http://localhost:54321 . connected.\n"
     ]
    },
    {
     "data": {
      "text/html": [
       "<div style=\"overflow:auto\"><table style=\"width:50%\"><tr><td>H2O_cluster_uptime:</td>\n",
       "<td>2 hours 27 mins</td></tr>\n",
       "<tr><td>H2O_cluster_timezone:</td>\n",
       "<td>America/Los_Angeles</td></tr>\n",
       "<tr><td>H2O_data_parsing_timezone:</td>\n",
       "<td>UTC</td></tr>\n",
       "<tr><td>H2O_cluster_version:</td>\n",
       "<td>3.36.1.1</td></tr>\n",
       "<tr><td>H2O_cluster_version_age:</td>\n",
       "<td>1 month and 9 days </td></tr>\n",
       "<tr><td>H2O_cluster_name:</td>\n",
       "<td>H2O_from_python_ilan_u0rxu7</td></tr>\n",
       "<tr><td>H2O_cluster_total_nodes:</td>\n",
       "<td>1</td></tr>\n",
       "<tr><td>H2O_cluster_free_memory:</td>\n",
       "<td>15.97 Gb</td></tr>\n",
       "<tr><td>H2O_cluster_total_cores:</td>\n",
       "<td>16</td></tr>\n",
       "<tr><td>H2O_cluster_allowed_cores:</td>\n",
       "<td>15</td></tr>\n",
       "<tr><td>H2O_cluster_status:</td>\n",
       "<td>locked, healthy</td></tr>\n",
       "<tr><td>H2O_connection_url:</td>\n",
       "<td>http://localhost:54321</td></tr>\n",
       "<tr><td>H2O_connection_proxy:</td>\n",
       "<td>{\"http\": null, \"https\": null}</td></tr>\n",
       "<tr><td>H2O_internal_security:</td>\n",
       "<td>False</td></tr>\n",
       "<tr><td>Python_version:</td>\n",
       "<td>3.7.13 final</td></tr></table></div>"
      ],
      "text/plain": [
       "--------------------------  -----------------------------\n",
       "H2O_cluster_uptime:         2 hours 27 mins\n",
       "H2O_cluster_timezone:       America/Los_Angeles\n",
       "H2O_data_parsing_timezone:  UTC\n",
       "H2O_cluster_version:        3.36.1.1\n",
       "H2O_cluster_version_age:    1 month and 9 days\n",
       "H2O_cluster_name:           H2O_from_python_ilan_u0rxu7\n",
       "H2O_cluster_total_nodes:    1\n",
       "H2O_cluster_free_memory:    15.97 Gb\n",
       "H2O_cluster_total_cores:    16\n",
       "H2O_cluster_allowed_cores:  15\n",
       "H2O_cluster_status:         locked, healthy\n",
       "H2O_connection_url:         http://localhost:54321\n",
       "H2O_connection_proxy:       {\"http\": null, \"https\": null}\n",
       "H2O_internal_security:      False\n",
       "Python_version:             3.7.13 final\n",
       "--------------------------  -----------------------------"
      ]
     },
     "metadata": {},
     "output_type": "display_data"
    },
    {
     "name": "stdout",
     "output_type": "stream",
     "text": [
      "(160000, 3000)\n"
     ]
    }
   ],
   "source": [
    "#tf-idf model\n",
    "tfv=TfidfVectorizer(min_df=0, max_features=3000, strip_accents='unicode',lowercase =True,\n",
    "                              analyzer='word', token_pattern=r'\\w{3,}', ngram_range=(1,1),\n",
    "                              use_idf=True,smooth_idf=True, sublinear_tf=True, stop_words = \"english\")   \n",
    "#h2o gbm model\n",
    "model=hgb.H2OGBMClassifier (ntrees=100,\n",
    "                            learn_rate=0.1,\n",
    "                            distribution=\"bernoulli\",\n",
    "                            col_sample_rate=1.0,\n",
    "                            col_sample_rate_per_tree =0.5,\n",
    "                            nthread=15,\n",
    "                            sample_rate=0.9,\n",
    "                            stopping_metric=\"logloss\",\n",
    "                            nbins=255,\n",
    "                            min_rows=1,\n",
    "                            ram=\"20G\",\n",
    "                            max_depth=4,\n",
    "                            seed=1)\n",
    "\n",
    "#apply tf idf\n",
    "data=tfv.fit_transform(train_X[\"text\"].to_numpy())\n",
    "data=data.toarray()\n",
    "print (data.shape) \n",
    "\n"
   ]
  },
  {
   "cell_type": "code",
   "execution_count": 192,
   "id": "794358b7",
   "metadata": {},
   "outputs": [
    {
     "name": "stdout",
     "output_type": "stream",
     "text": [
      "(40000, 3000)\n"
     ]
    }
   ],
   "source": [
    "test_data = tfv.fit_transform(test_X[\"text\"].to_numpy())\n",
    "test_data = test_data.toarray()\n",
    "print(test_data.shape)"
   ]
  },
  {
   "cell_type": "code",
   "execution_count": null,
   "id": "9fb68914",
   "metadata": {},
   "outputs": [],
   "source": [
    "#fit model\n",
    "model.fit(data,np.array(train_y)) # feed target\n"
   ]
  },
  {
   "cell_type": "code",
   "execution_count": null,
   "id": "dbc5dd7a",
   "metadata": {},
   "outputs": [],
   "source": [
    "#make predictions)probabilities) on tweets\n",
    "preds=model.predict_proba(test_data)[:,1]"
   ]
  },
  {
   "cell_type": "code",
   "execution_count": null,
   "id": "2ca4c4f6",
   "metadata": {},
   "outputs": [],
   "source": [
    "print (\"training auc is %f\" %roc_auc_score(test_y,preds) )"
   ]
  },
  {
   "cell_type": "code",
   "execution_count": 185,
   "id": "15d6fc4a",
   "metadata": {},
   "outputs": [
    {
     "name": "stdout",
     "output_type": "stream",
     "text": [
      "Learning rate:  0.05\n",
      "Accuracy score (training): 0.699\n",
      "Accuracy score (validation): 0.558\n",
      "Learning rate:  0.1\n",
      "Accuracy score (training): 0.702\n",
      "Accuracy score (validation): 0.575\n"
     ]
    }
   ],
   "source": [
    "from sklearn.ensemble import GradientBoostingClassifier\n",
    "\n",
    "# Create a classifier object\n",
    "learning_rates = [0.1]\n",
    "for learning_rate in learning_rates:\n",
    "    classifier = GradientBoostingClassifier(n_estimators=100,\n",
    "                                            learning_rate=learning_rate,\n",
    "                                            max_features=20,\n",
    "                                            max_depth=4)\n",
    "\n",
    "    # Fit the model\n",
    "    classifier.fit(data, train_y)\n",
    "    print(\"Learning rate: \", learning_rate)\n",
    "\n",
    "    # Score the model\n",
    "    print(\"Accuracy score (training): {0:.3f}\".format(\n",
    "        classifier.score(\n",
    "            data,\n",
    "            train_y)))\n",
    "    print(\"Accuracy score (validation): {0:.3f}\".format(\n",
    "        classifier.score(\n",
    "            test_data,\n",
    "            test_y)))"
   ]
  },
  {
   "cell_type": "code",
   "execution_count": 186,
   "id": "1a5f3a69",
   "metadata": {},
   "outputs": [],
   "source": [
    "GBS_preds=classifier.predict_proba(test_data)[:,1]"
   ]
  },
  {
   "cell_type": "code",
   "execution_count": 187,
   "id": "71398da4",
   "metadata": {},
   "outputs": [],
   "source": [
    "# Make Prediction\n",
    "gbs_predictions = classifier.predict(test_data)"
   ]
  },
  {
   "cell_type": "code",
   "execution_count": 188,
   "id": "5fbc049f",
   "metadata": {},
   "outputs": [],
   "source": [
    "test_X[\"target\"] = test_y\n",
    "test_X[\"GBS_Prediction\"] = gbs_predictions\n",
    "test_X[\"GBS_preds\"] = GBS_preds"
   ]
  },
  {
   "cell_type": "code",
   "execution_count": 190,
   "id": "62f31bc2",
   "metadata": {},
   "outputs": [],
   "source": [
    "test_X.to_csv(\"test_results.csv\")"
   ]
  },
  {
   "cell_type": "code",
   "execution_count": 193,
   "id": "8f2e03a2",
   "metadata": {},
   "outputs": [
    {
     "name": "stdout",
     "output_type": "stream",
     "text": [
      "Accuracy Score : 0.575325\n"
     ]
    }
   ],
   "source": [
    "from sklearn.metrics import confusion_matrix\n",
    "from sklearn.metrics import accuracy_score\n",
    "from sklearn.metrics import classification_report\n",
    "# Calculating the accuracy score\n",
    "acc_score = accuracy_score(test_y, gbs_predictions)\n",
    "print(f\"Accuracy Score : {acc_score}\")"
   ]
  },
  {
   "cell_type": "code",
   "execution_count": 195,
   "id": "16dd2f4c",
   "metadata": {},
   "outputs": [
    {
     "data": {
      "text/html": [
       "<div>\n",
       "<style scoped>\n",
       "    .dataframe tbody tr th:only-of-type {\n",
       "        vertical-align: middle;\n",
       "    }\n",
       "\n",
       "    .dataframe tbody tr th {\n",
       "        vertical-align: top;\n",
       "    }\n",
       "\n",
       "    .dataframe thead th {\n",
       "        text-align: right;\n",
       "    }\n",
       "</style>\n",
       "<table border=\"1\" class=\"dataframe\">\n",
       "  <thead>\n",
       "    <tr style=\"text-align: right;\">\n",
       "      <th></th>\n",
       "      <th>Predicted 0</th>\n",
       "      <th>Predicted 1</th>\n",
       "    </tr>\n",
       "  </thead>\n",
       "  <tbody>\n",
       "    <tr>\n",
       "      <th>Actual 0</th>\n",
       "      <td>6507</td>\n",
       "      <td>13493</td>\n",
       "    </tr>\n",
       "    <tr>\n",
       "      <th>Actual 1</th>\n",
       "      <td>3494</td>\n",
       "      <td>16506</td>\n",
       "    </tr>\n",
       "  </tbody>\n",
       "</table>\n",
       "</div>"
      ],
      "text/plain": [
       "          Predicted 0  Predicted 1\n",
       "Actual 0         6507        13493\n",
       "Actual 1         3494        16506"
      ]
     },
     "metadata": {},
     "output_type": "display_data"
    }
   ],
   "source": [
    "# Generate the confusion matrix\n",
    "cm = confusion_matrix(test_y, gbs_predictions)\n",
    "cm_df = pd.DataFrame(\n",
    "    cm, index=[\"Actual 0\", \"Actual 1\"],\n",
    "    columns=[\"Predicted 0\", \"Predicted 1\"]\n",
    ")\n",
    "\n",
    "# Displaying results\n",
    "display(cm_df)"
   ]
  },
  {
   "cell_type": "code",
   "execution_count": 196,
   "id": "3cb73d1f",
   "metadata": {},
   "outputs": [],
   "source": [
    "from sklearn.ensemble import RandomForestClassifier\n",
    "rfc = RandomForestClassifier(n_estimators=100, max_depth=4, max_features =50)"
   ]
  },
  {
   "cell_type": "code",
   "execution_count": 197,
   "id": "701db2e3",
   "metadata": {},
   "outputs": [
    {
     "data": {
      "text/plain": [
       "RandomForestClassifier(max_depth=4, max_features=50)"
      ]
     },
     "execution_count": 197,
     "metadata": {},
     "output_type": "execute_result"
    }
   ],
   "source": [
    "# Fit the model\n",
    "rfc.fit(data, train_y)"
   ]
  },
  {
   "cell_type": "code",
   "execution_count": 198,
   "id": "0482b913",
   "metadata": {},
   "outputs": [],
   "source": [
    "RFC_preds=rfc.predict_proba(test_data)[:,1]"
   ]
  },
  {
   "cell_type": "code",
   "execution_count": 199,
   "id": "d4a960b4",
   "metadata": {},
   "outputs": [],
   "source": [
    "# Make Prediction\n",
    "RFC_predictions = rfc.predict(test_data)"
   ]
  },
  {
   "cell_type": "code",
   "execution_count": 200,
   "id": "e0eae93d",
   "metadata": {},
   "outputs": [],
   "source": [
    "test_X[\"target\"] = test_y\n",
    "test_X[\"RFC_Prediction\"] = RFC_predictions\n",
    "test_X[\"RFC_preds\"] = RFC_preds"
   ]
  },
  {
   "cell_type": "code",
   "execution_count": 201,
   "id": "f5fc99a2",
   "metadata": {},
   "outputs": [],
   "source": [
    "test_X.to_csv(\"test_results.csv\")"
   ]
  },
  {
   "cell_type": "code",
   "execution_count": 202,
   "id": "7ae8f548",
   "metadata": {},
   "outputs": [
    {
     "name": "stdout",
     "output_type": "stream",
     "text": [
      "Accuracy Score : 0.5792\n"
     ]
    }
   ],
   "source": [
    "from sklearn.metrics import confusion_matrix\n",
    "from sklearn.metrics import accuracy_score\n",
    "from sklearn.metrics import classification_report\n",
    "# Calculating the accuracy score\n",
    "acc_score = accuracy_score(test_y, RFC_predictions)\n",
    "print(f\"Accuracy Score : {acc_score}\")"
   ]
  },
  {
   "cell_type": "code",
   "execution_count": 203,
   "id": "833df772",
   "metadata": {},
   "outputs": [
    {
     "data": {
      "text/html": [
       "<div>\n",
       "<style scoped>\n",
       "    .dataframe tbody tr th:only-of-type {\n",
       "        vertical-align: middle;\n",
       "    }\n",
       "\n",
       "    .dataframe tbody tr th {\n",
       "        vertical-align: top;\n",
       "    }\n",
       "\n",
       "    .dataframe thead th {\n",
       "        text-align: right;\n",
       "    }\n",
       "</style>\n",
       "<table border=\"1\" class=\"dataframe\">\n",
       "  <thead>\n",
       "    <tr style=\"text-align: right;\">\n",
       "      <th></th>\n",
       "      <th>Predicted 0</th>\n",
       "      <th>Predicted 1</th>\n",
       "    </tr>\n",
       "  </thead>\n",
       "  <tbody>\n",
       "    <tr>\n",
       "      <th>Actual 0</th>\n",
       "      <td>6098</td>\n",
       "      <td>13902</td>\n",
       "    </tr>\n",
       "    <tr>\n",
       "      <th>Actual 1</th>\n",
       "      <td>2930</td>\n",
       "      <td>17070</td>\n",
       "    </tr>\n",
       "  </tbody>\n",
       "</table>\n",
       "</div>"
      ],
      "text/plain": [
       "          Predicted 0  Predicted 1\n",
       "Actual 0         6098        13902\n",
       "Actual 1         2930        17070"
      ]
     },
     "metadata": {},
     "output_type": "display_data"
    }
   ],
   "source": [
    "# Generate the confusion matrix\n",
    "cm = confusion_matrix(test_y, RFC_predictions)\n",
    "cm_df = pd.DataFrame(\n",
    "    cm, index=[\"Actual 0\", \"Actual 1\"],\n",
    "    columns=[\"Predicted 0\", \"Predicted 1\"]\n",
    ")\n",
    "\n",
    "# Displaying results\n",
    "display(cm_df)"
   ]
  },
  {
   "cell_type": "code",
   "execution_count": 204,
   "id": "dba15f69",
   "metadata": {},
   "outputs": [],
   "source": [
    "test_X.to_csv(\"test_results.csv\")"
   ]
  },
  {
   "cell_type": "code",
   "execution_count": null,
   "id": "1ade29f7",
   "metadata": {},
   "outputs": [],
   "source": []
  }
 ],
 "metadata": {
  "kernelspec": {
   "display_name": "mlenv",
   "language": "python",
   "name": "mlenv"
  },
  "language_info": {
   "codemirror_mode": {
    "name": "ipython",
    "version": 3
   },
   "file_extension": ".py",
   "mimetype": "text/x-python",
   "name": "python",
   "nbconvert_exporter": "python",
   "pygments_lexer": "ipython3",
   "version": "3.7.13"
  }
 },
 "nbformat": 4,
 "nbformat_minor": 5
}
