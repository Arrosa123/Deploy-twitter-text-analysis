{
 "cells": [
  {
   "cell_type": "code",
   "execution_count": 1,
   "id": "5d1350d8",
   "metadata": {},
   "outputs": [
    {
     "name": "stdout",
     "output_type": "stream",
     "text": [
      "Requirement already satisfied: boto3 in c:\\users\\gaurav\\anaconda3\\envs\\pythondata\\lib\\site-packages (1.23.9)Note: you may need to restart the kernel to use updated packages.\n",
      "Requirement already satisfied: s3transfer<0.6.0,>=0.5.0 in c:\\users\\gaurav\\anaconda3\\envs\\pythondata\\lib\\site-packages (from boto3) (0.5.2)\n",
      "Requirement already satisfied: jmespath<2.0.0,>=0.7.1 in c:\\users\\gaurav\\anaconda3\\envs\\pythondata\\lib\\site-packages (from boto3) (1.0.0)\n",
      "\n",
      "Requirement already satisfied: botocore<1.27.0,>=1.26.9 in c:\\users\\gaurav\\anaconda3\\envs\\pythondata\\lib\\site-packages (from boto3) (1.26.9)\n",
      "Requirement already satisfied: python-dateutil<3.0.0,>=2.1 in c:\\users\\gaurav\\anaconda3\\envs\\pythondata\\lib\\site-packages (from botocore<1.27.0,>=1.26.9->boto3) (2.8.2)\n",
      "Requirement already satisfied: urllib3<1.27,>=1.25.4 in c:\\users\\gaurav\\anaconda3\\envs\\pythondata\\lib\\site-packages (from botocore<1.27.0,>=1.26.9->boto3) (1.26.7)\n",
      "Requirement already satisfied: six>=1.5 in c:\\users\\gaurav\\anaconda3\\envs\\pythondata\\lib\\site-packages (from python-dateutil<3.0.0,>=2.1->botocore<1.27.0,>=1.26.9->boto3) (1.16.0)\n"
     ]
    }
   ],
   "source": [
    "pip install boto3"
   ]
  },
  {
   "cell_type": "code",
   "execution_count": 2,
   "id": "08a4ba9b",
   "metadata": {},
   "outputs": [],
   "source": [
    "# import boto3 here\n",
    "import boto3\n",
    "\n",
    "# config file dependency\n",
    "from config import access_key_id, secret_access_key"
   ]
  },
  {
   "cell_type": "code",
   "execution_count": 3,
   "id": "bb1196c8",
   "metadata": {},
   "outputs": [],
   "source": [
    "s3 = boto3.resource(\n",
    "    service_name='s3',\n",
    "    region_name='us-east-2',\n",
    "    aws_access_key_id=access_key_id,\n",
    "    aws_secret_access_key=secret_access_key\n",
    ")"
   ]
  },
  {
   "cell_type": "code",
   "execution_count": 4,
   "id": "ad6d0b67",
   "metadata": {},
   "outputs": [
    {
     "name": "stdout",
     "output_type": "stream",
     "text": [
      "databootnayan-bucket\n",
      "nayanb-bucket\n"
     ]
    }
   ],
   "source": [
    "# Print out bucket names\n",
    "for bucket in s3.buckets.all():\n",
    "    print(bucket.name)"
   ]
  },
  {
   "cell_type": "code",
   "execution_count": 5,
   "id": "fd4cf9f5",
   "metadata": {},
   "outputs": [
    {
     "name": "stdout",
     "output_type": "stream",
     "text": [
      "       polarity          id                          date     query  \\\n",
      "0             0  2051199119  Fri Jun 05 21:04:50 PDT 2009  NO_QUERY   \n",
      "1             0  2051199378  Fri Jun 05 21:04:56 PDT 2009  NO_QUERY   \n",
      "2             0  2051200441  Fri Jun 05 21:05:17 PDT 2009  NO_QUERY   \n",
      "3             0  2051201409  Fri Jun 05 21:05:36 PDT 2009  NO_QUERY   \n",
      "4             0  2051201881  Fri Jun 05 21:05:46 PDT 2009  NO_QUERY   \n",
      "...         ...         ...                           ...       ...   \n",
      "19995         4  1690832374  Sun May 03 16:28:55 PDT 2009  NO_QUERY   \n",
      "19996         4  1690832378  Sun May 03 16:28:55 PDT 2009  NO_QUERY   \n",
      "19997         4  1690832412  Sun May 03 16:28:55 PDT 2009  NO_QUERY   \n",
      "19998         4  1690832415  Sun May 03 16:28:55 PDT 2009  NO_QUERY   \n",
      "19999         4  1690832465  Sun May 03 16:28:55 PDT 2009  NO_QUERY   \n",
      "\n",
      "                 user                                               text  \\\n",
      "0          alicatpurr  My moonstone pendant fell off today, somewhere...   \n",
      "1            joshwehe  Watching baseball tonight and saying goodbye t...   \n",
      "2          qwerkyqook  RIP cute black mac book. Sorry about the olive...   \n",
      "3             Lizfig3  @pandafandanga werd. I miss him. Hell man, I m...   \n",
      "4      sweet_ctstrphe  lost my  voice  we must only talk through visi...   \n",
      "...               ...                                                ...   \n",
      "19995        JaqStone  @charini Hi, Charini. I see you found my bless...   \n",
      "19996     arrogantass  is about to get her blog on! Methinks you will...   \n",
      "19997            MzzV  Too much running around today but at least it ...   \n",
      "19998   Dutch_Patrick  @cristina_jacob  thanks for the follow, i hope...   \n",
      "19999       twicullen  RE BDAY: Okay everyone is welcome to come, if ...   \n",
      "\n",
      "      new_date  \n",
      "0       6/5/09  \n",
      "1       6/5/09  \n",
      "2       6/5/09  \n",
      "3       6/5/09  \n",
      "4       6/5/09  \n",
      "...        ...  \n",
      "19995   5/3/09  \n",
      "19996   5/3/09  \n",
      "19997   5/3/09  \n",
      "19998   5/3/09  \n",
      "19999   5/3/09  \n",
      "\n",
      "[20000 rows x 7 columns]\n"
     ]
    }
   ],
   "source": [
    "import pandas as pd\n",
    "\n",
    "# make a dataframe and print\n",
    "data = pd.read_csv(r'..\\Resources\\sentiment_analysis_10k.csv',encoding = \"ISO-8859-1\")\n",
    "df = pd.DataFrame(data)\n",
    "\n",
    "print (df)\n",
    "\n",
    "\n"
   ]
  },
  {
   "cell_type": "code",
   "execution_count": 6,
   "id": "f9d2505e",
   "metadata": {},
   "outputs": [],
   "source": [
    "# Upload files to S3 bucket\n",
    "s3.Bucket('nayanb-bucket').upload_file(Filename='..\\Resources\\sentiment_analysis_10k.csv', Key='sentiment_data.csv')"
   ]
  },
  {
   "cell_type": "code",
   "execution_count": 7,
   "id": "905739b0",
   "metadata": {},
   "outputs": [
    {
     "name": "stdout",
     "output_type": "stream",
     "text": [
      "s3.ObjectSummary(bucket_name='nayanb-bucket', key='sentiment_analysis_10k.csv')\n",
      "s3.ObjectSummary(bucket_name='nayanb-bucket', key='sentiment_data.csv')\n"
     ]
    }
   ],
   "source": [
    "# list of the all objects in our bucket\n",
    "for obj in s3.Bucket('nayanb-bucket').objects.all():\n",
    "    print(obj)"
   ]
  },
  {
   "cell_type": "code",
   "execution_count": 8,
   "id": "40f36fb8",
   "metadata": {},
   "outputs": [
    {
     "data": {
      "text/html": [
       "<div>\n",
       "<style scoped>\n",
       "    .dataframe tbody tr th:only-of-type {\n",
       "        vertical-align: middle;\n",
       "    }\n",
       "\n",
       "    .dataframe tbody tr th {\n",
       "        vertical-align: top;\n",
       "    }\n",
       "\n",
       "    .dataframe thead th {\n",
       "        text-align: right;\n",
       "    }\n",
       "</style>\n",
       "<table border=\"1\" class=\"dataframe\">\n",
       "  <thead>\n",
       "    <tr style=\"text-align: right;\">\n",
       "      <th></th>\n",
       "      <th>id</th>\n",
       "      <th>date</th>\n",
       "      <th>query</th>\n",
       "      <th>user</th>\n",
       "      <th>text</th>\n",
       "      <th>new_date</th>\n",
       "    </tr>\n",
       "    <tr>\n",
       "      <th>polarity</th>\n",
       "      <th></th>\n",
       "      <th></th>\n",
       "      <th></th>\n",
       "      <th></th>\n",
       "      <th></th>\n",
       "      <th></th>\n",
       "    </tr>\n",
       "  </thead>\n",
       "  <tbody>\n",
       "    <tr>\n",
       "      <th>0</th>\n",
       "      <td>2051199119</td>\n",
       "      <td>Fri Jun 05 21:04:50 PDT 2009</td>\n",
       "      <td>NO_QUERY</td>\n",
       "      <td>alicatpurr</td>\n",
       "      <td>My moonstone pendant fell off today, somewhere...</td>\n",
       "      <td>6/5/09</td>\n",
       "    </tr>\n",
       "    <tr>\n",
       "      <th>0</th>\n",
       "      <td>2051199378</td>\n",
       "      <td>Fri Jun 05 21:04:56 PDT 2009</td>\n",
       "      <td>NO_QUERY</td>\n",
       "      <td>joshwehe</td>\n",
       "      <td>Watching baseball tonight and saying goodbye t...</td>\n",
       "      <td>6/5/09</td>\n",
       "    </tr>\n",
       "    <tr>\n",
       "      <th>0</th>\n",
       "      <td>2051200441</td>\n",
       "      <td>Fri Jun 05 21:05:17 PDT 2009</td>\n",
       "      <td>NO_QUERY</td>\n",
       "      <td>qwerkyqook</td>\n",
       "      <td>RIP cute black mac book. Sorry about the olive...</td>\n",
       "      <td>6/5/09</td>\n",
       "    </tr>\n",
       "    <tr>\n",
       "      <th>0</th>\n",
       "      <td>2051201409</td>\n",
       "      <td>Fri Jun 05 21:05:36 PDT 2009</td>\n",
       "      <td>NO_QUERY</td>\n",
       "      <td>Lizfig3</td>\n",
       "      <td>@pandafandanga werd. I miss him. Hell man, I m...</td>\n",
       "      <td>6/5/09</td>\n",
       "    </tr>\n",
       "    <tr>\n",
       "      <th>0</th>\n",
       "      <td>2051201881</td>\n",
       "      <td>Fri Jun 05 21:05:46 PDT 2009</td>\n",
       "      <td>NO_QUERY</td>\n",
       "      <td>sweet_ctstrphe</td>\n",
       "      <td>lost my  voice  we must only talk through visi...</td>\n",
       "      <td>6/5/09</td>\n",
       "    </tr>\n",
       "    <tr>\n",
       "      <th>...</th>\n",
       "      <td>...</td>\n",
       "      <td>...</td>\n",
       "      <td>...</td>\n",
       "      <td>...</td>\n",
       "      <td>...</td>\n",
       "      <td>...</td>\n",
       "    </tr>\n",
       "    <tr>\n",
       "      <th>4</th>\n",
       "      <td>1690832374</td>\n",
       "      <td>Sun May 03 16:28:55 PDT 2009</td>\n",
       "      <td>NO_QUERY</td>\n",
       "      <td>JaqStone</td>\n",
       "      <td>@charini Hi, Charini. I see you found my bless...</td>\n",
       "      <td>5/3/09</td>\n",
       "    </tr>\n",
       "    <tr>\n",
       "      <th>4</th>\n",
       "      <td>1690832378</td>\n",
       "      <td>Sun May 03 16:28:55 PDT 2009</td>\n",
       "      <td>NO_QUERY</td>\n",
       "      <td>arrogantass</td>\n",
       "      <td>is about to get her blog on! Methinks you will...</td>\n",
       "      <td>5/3/09</td>\n",
       "    </tr>\n",
       "    <tr>\n",
       "      <th>4</th>\n",
       "      <td>1690832412</td>\n",
       "      <td>Sun May 03 16:28:55 PDT 2009</td>\n",
       "      <td>NO_QUERY</td>\n",
       "      <td>MzzV</td>\n",
       "      <td>Too much running around today but at least it ...</td>\n",
       "      <td>5/3/09</td>\n",
       "    </tr>\n",
       "    <tr>\n",
       "      <th>4</th>\n",
       "      <td>1690832415</td>\n",
       "      <td>Sun May 03 16:28:55 PDT 2009</td>\n",
       "      <td>NO_QUERY</td>\n",
       "      <td>Dutch_Patrick</td>\n",
       "      <td>@cristina_jacob  thanks for the follow, i hope...</td>\n",
       "      <td>5/3/09</td>\n",
       "    </tr>\n",
       "    <tr>\n",
       "      <th>4</th>\n",
       "      <td>1690832465</td>\n",
       "      <td>Sun May 03 16:28:55 PDT 2009</td>\n",
       "      <td>NO_QUERY</td>\n",
       "      <td>twicullen</td>\n",
       "      <td>RE BDAY: Okay everyone is welcome to come, if ...</td>\n",
       "      <td>5/3/09</td>\n",
       "    </tr>\n",
       "  </tbody>\n",
       "</table>\n",
       "<p>20000 rows × 6 columns</p>\n",
       "</div>"
      ],
      "text/plain": [
       "                  id                          date     query            user  \\\n",
       "polarity                                                                       \n",
       "0         2051199119  Fri Jun 05 21:04:50 PDT 2009  NO_QUERY      alicatpurr   \n",
       "0         2051199378  Fri Jun 05 21:04:56 PDT 2009  NO_QUERY        joshwehe   \n",
       "0         2051200441  Fri Jun 05 21:05:17 PDT 2009  NO_QUERY      qwerkyqook   \n",
       "0         2051201409  Fri Jun 05 21:05:36 PDT 2009  NO_QUERY         Lizfig3   \n",
       "0         2051201881  Fri Jun 05 21:05:46 PDT 2009  NO_QUERY  sweet_ctstrphe   \n",
       "...              ...                           ...       ...             ...   \n",
       "4         1690832374  Sun May 03 16:28:55 PDT 2009  NO_QUERY        JaqStone   \n",
       "4         1690832378  Sun May 03 16:28:55 PDT 2009  NO_QUERY     arrogantass   \n",
       "4         1690832412  Sun May 03 16:28:55 PDT 2009  NO_QUERY            MzzV   \n",
       "4         1690832415  Sun May 03 16:28:55 PDT 2009  NO_QUERY   Dutch_Patrick   \n",
       "4         1690832465  Sun May 03 16:28:55 PDT 2009  NO_QUERY       twicullen   \n",
       "\n",
       "                                                       text new_date  \n",
       "polarity                                                              \n",
       "0         My moonstone pendant fell off today, somewhere...   6/5/09  \n",
       "0         Watching baseball tonight and saying goodbye t...   6/5/09  \n",
       "0         RIP cute black mac book. Sorry about the olive...   6/5/09  \n",
       "0         @pandafandanga werd. I miss him. Hell man, I m...   6/5/09  \n",
       "0         lost my  voice  we must only talk through visi...   6/5/09  \n",
       "...                                                     ...      ...  \n",
       "4         @charini Hi, Charini. I see you found my bless...   5/3/09  \n",
       "4         is about to get her blog on! Methinks you will...   5/3/09  \n",
       "4         Too much running around today but at least it ...   5/3/09  \n",
       "4         @cristina_jacob  thanks for the follow, i hope...   5/3/09  \n",
       "4         RE BDAY: Okay everyone is welcome to come, if ...   5/3/09  \n",
       "\n",
       "[20000 rows x 6 columns]"
      ]
     },
     "execution_count": 8,
     "metadata": {},
     "output_type": "execute_result"
    }
   ],
   "source": [
    "# Download file and read from disc\n",
    "s3.Bucket('nayanb-bucket').download_file(Key='sentiment_data.csv', Filename='foo2.csv')\n",
    "pd.read_csv('foo2.csv', index_col=0, encoding = \"ISO-8859-1\")"
   ]
  },
  {
   "cell_type": "code",
   "execution_count": null,
   "id": "40f15928",
   "metadata": {},
   "outputs": [],
   "source": []
  }
 ],
 "metadata": {
  "interpreter": {
   "hash": "d064130802c1955c258e99a2e623e44423f75a9936fd93c9c8099b36b0d27b05"
  },
  "kernelspec": {
   "display_name": "Python 3.7.11 ('pythondata')",
   "language": "python",
   "name": "python3"
  },
  "language_info": {
   "codemirror_mode": {
    "name": "ipython",
    "version": 3
   },
   "file_extension": ".py",
   "mimetype": "text/x-python",
   "name": "python",
   "nbconvert_exporter": "python",
   "pygments_lexer": "ipython3",
   "version": "3.7.11"
  }
 },
 "nbformat": 4,
 "nbformat_minor": 5
}
